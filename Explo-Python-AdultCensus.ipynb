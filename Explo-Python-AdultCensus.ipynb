{
 "cells": [
  {
   "cell_type": "markdown",
   "metadata": {},
   "source": [
    "<center>\n",
    "<a href=\"http://www.insa-toulouse.fr/\" ><img src=\"http://www.math.univ-toulouse.fr/~besse/Wikistat/Images/logo-insa.jpg\" style=\"float:left; max-width: 120px; display: inline\" alt=\"INSA\"/></a> \n",
    "\n",
    "<a href=\"http://wikistat.fr/\" ><img src=\"http://www.math.univ-toulouse.fr/~besse/Wikistat/Images/wikistat.jpg\" style=\"max-width: 250px; display: inline\"  alt=\"Wikistat\"/></a>\n",
    "\n",
    "<a href=\"http://www.math.univ-toulouse.fr/\" ><img src=\"http://www.math.univ-toulouse.fr/~besse/Wikistat/Images/logo_imt.jpg\" style=\"float:right; max-width: 250px; display: inline\" alt=\"IMT\"/> </a>\n",
    "</center>"
   ]
  },
  {
   "cell_type": "markdown",
   "metadata": {},
   "source": [
    "# [Scénarios d'Exploration Statistique](https://github.com/wikistat/Exploration)"
   ]
  },
  {
   "cell_type": "markdown",
   "metadata": {},
   "source": [
    "# GRC: Segmentation d'une clientèle bancaire en <a href=\"https://www.python.org/\"><img src=\"https://upload.wikimedia.org/wikipedia/commons/thumb/f/f8/Python_logo_and_wordmark.svg/390px-Python_logo_and_wordmark.svg.png\" style=\"max-width: 120px; display: inline\" alt=\"Python\"/></a>"
   ]
  },
  {
   "cell_type": "markdown",
   "metadata": {},
   "source": [
    "**Résumé**\n",
    "Analyse de données extraites d'un recensement aux USA de 1994. Préparation des données, exploration élémentaire et multidimensionnelle ([ACP](http://wikistat.fr/pdf/st-m-explo-acp.pdf), [AFCM](http://wikistat.fr/pdf/st-m-explo-afcm.pdf)), [classification non supervisée](http://wikistat.fr/pdf/st-m-explo-classif.pdf). L'objectif est de préparer l'[étape suivante](https://github.com/wikistat/Apprentissage/tree/master/Adult-Census) consistant à modéliser / prévoir le niveau de revenu.\n",
    "\n",
    "## Introduction\n",
    "### Objectif\n",
    "A refaire\n",
    "\n",
    "### Présentation des données\n",
    "#### Les variables\n",
    "\n",
    "Num| Libellé |\tEnsemble de valeurs\n",
    "-|--|--|--\n",
    "1|`Age`|\treal\n",
    "2|\t`workClass`|\tPrivate, Self-emp-not-inc, Self-emp-inc, Federal-gov, Local-gov, State-gov, Without-pay, Never-worked\n",
    "3|\t`fnlwgt`|\treal\n",
    "4|\t`education`|\tBachelors, Some-college, 11th, HS-grad, Prof-school, Assoc-acdm, Assoc-voc, 9th, 7th-8th, 12th, Masters, 1st-4th, 10th, Doctorate, 5th-6th, Preschool\n",
    "5|\t`educNum`|\tinteger\n",
    "6|\t`mariStat`|\tMarried-civ-spouse, Divorced, Never-married, Separated, Widowed, Married-spouse-absent, Married-AF-spouse\n",
    "7|\t`occup`|\tTech-support, Craft-repair, Other-service, Sales, Exec-managerial, Prof-specialty, Handlers-cleaners, Machine-op-inspct, Adm-clerical, Farming-fishing, Transport-moving, Priv-house-serv, Protective-serv, Armed-Forces\n",
    "8|\t`relationship`|\tWife, Own-child, Husband, Not-in-family, Other-relative, Unmarried\n",
    "9|\t`origEthn`|\tWhite, Asian-Pac-Islander, Amer-Indian-Eskimo, Other, Black\n",
    "10|\t`sex`|\tFemale, Male\n",
    "11|\t`capitalGain`|\treal  \n",
    "12|\t`capitalLoss`|\treal\n",
    "13|\t`hoursWeek`|\treal\n",
    "14|\t`nativCountry`|\tUnited-States, Cambodia, England, Puerto-Rico, Canada, Germany, Outlying-US(Guam-USVI-etc), India, Japan, Greece, South, China, Cuba, Iran, Honduras, Philippines, Italy, Poland, Jamaica, Vietnam, Mexico, Portugal, Ireland, France, Dominican-Republic, Laos, Ecuador, Taiwan, Haiti, Columbia, Hungary, Guatemala, Nicaragua, Scotland, Thailand, Yugoslavia, El-Salvador, Trinadad&Tobago, Peru, Hong, Holand-Netherlands\n",
    "15|\t`income`|\t\t>50K, <=50K\n",
    "\n"
   ]
  },
  {
   "cell_type": "markdown",
   "metadata": {},
   "source": [
    "# <FONT COLOR=\"Red\">Épisode 1 <i>Data Munging </i></font> \n",
    "## Lecture et prétraitement  des données\n",
    "Les données sont disponibles dans le répertoire de ce calepin et chargées en même temps.\n",
    "\n",
    "Même si les données sont déjà extraites par échantillonnage d'une très grande base, elles nécessitent un travail prémiminaire (*data munging*) pour détecter, corriger les erreurs et incohérences, éliminer des redondances, traiter les données manquantes, transformer certaines variables.  Ce travail préliminaire, souvent long et fastidieux, nécessite d'y consacer beaucoup de temps et de rigueur afin de s'assurer de la qualité finale des résultats. \n",
    "\n",
    "Il fait appel à des outils classiques de statistique descriptive. \n",
    "\n",
    "Les données sont anonymisées et datent du siècle dernier, elles n'ont plus d'intérêt \"commercial\". De façon générale, plutôt que de conserver tous les fichiers de données intermédiaires à une étude, ce qui peut nécessiter beaucoup d'espace disque, il est important, voire crucial, d'archiver *tous* les programmes intermédiaires de saisie, sélection, transformation des données. En effet, en cas de problème ou même simplement d'un mauvais choix méthodologique, il faut pouvoir rapidement repartir d'une étape précédente. \n",
    "\n",
    "La production d'un calepin aide à cette mémoire lors de l'analyse préliminaire mais ne constitue pas un code opérationnel.\n",
    "\n",
    "### Lecture des données"
   ]
  },
  {
   "cell_type": "code",
   "execution_count": 154,
   "metadata": {},
   "outputs": [],
   "source": [
    "%matplotlib inline\n",
    "import pandas as pd\n",
    "import numpy as np\n",
    "import matplotlib.pyplot as plt\n",
    "pd.options.mode.chained_assignment = None  # default='warn'"
   ]
  },
  {
   "cell_type": "code",
   "execution_count": 155,
   "metadata": {},
   "outputs": [
    {
     "data": {
      "text/html": [
       "<div>\n",
       "<style scoped>\n",
       "    .dataframe tbody tr th:only-of-type {\n",
       "        vertical-align: middle;\n",
       "    }\n",
       "\n",
       "    .dataframe tbody tr th {\n",
       "        vertical-align: top;\n",
       "    }\n",
       "\n",
       "    .dataframe thead th {\n",
       "        text-align: right;\n",
       "    }\n",
       "</style>\n",
       "<table border=\"1\" class=\"dataframe\">\n",
       "  <thead>\n",
       "    <tr style=\"text-align: right;\">\n",
       "      <th></th>\n",
       "      <th>age</th>\n",
       "      <th>workClass</th>\n",
       "      <th>fnlwgt</th>\n",
       "      <th>education</th>\n",
       "      <th>educNum</th>\n",
       "      <th>mariStat</th>\n",
       "      <th>occup</th>\n",
       "      <th>relationship</th>\n",
       "      <th>origEthn</th>\n",
       "      <th>sex</th>\n",
       "      <th>capitalGain</th>\n",
       "      <th>capitalLoss</th>\n",
       "      <th>hoursWeek</th>\n",
       "      <th>nativCountry</th>\n",
       "      <th>income</th>\n",
       "      <th>LcapitalGain</th>\n",
       "      <th>LcapitalLoss</th>\n",
       "      <th>ageQ</th>\n",
       "      <th>hoursWeekQ</th>\n",
       "    </tr>\n",
       "  </thead>\n",
       "  <tbody>\n",
       "    <tr>\n",
       "      <th>0</th>\n",
       "      <td>39</td>\n",
       "      <td>Other-Govt</td>\n",
       "      <td>77516</td>\n",
       "      <td>Bachelors</td>\n",
       "      <td>13</td>\n",
       "      <td>Never-Married</td>\n",
       "      <td>Admin</td>\n",
       "      <td>Not-in-family</td>\n",
       "      <td>White</td>\n",
       "      <td>Male</td>\n",
       "      <td>cgLow</td>\n",
       "      <td>None</td>\n",
       "      <td>40</td>\n",
       "      <td>United-States</td>\n",
       "      <td>incLow</td>\n",
       "      <td>7.684784</td>\n",
       "      <td>0.0</td>\n",
       "      <td>Ag3</td>\n",
       "      <td>HW2</td>\n",
       "    </tr>\n",
       "    <tr>\n",
       "      <th>1</th>\n",
       "      <td>50</td>\n",
       "      <td>Self-Employed</td>\n",
       "      <td>83311</td>\n",
       "      <td>Bachelors</td>\n",
       "      <td>13</td>\n",
       "      <td>Married</td>\n",
       "      <td>White-Collar</td>\n",
       "      <td>Husband</td>\n",
       "      <td>White</td>\n",
       "      <td>Male</td>\n",
       "      <td>None</td>\n",
       "      <td>None</td>\n",
       "      <td>13</td>\n",
       "      <td>United-States</td>\n",
       "      <td>incLow</td>\n",
       "      <td>0.000000</td>\n",
       "      <td>0.0</td>\n",
       "      <td>Ag4</td>\n",
       "      <td>HW1</td>\n",
       "    </tr>\n",
       "    <tr>\n",
       "      <th>2</th>\n",
       "      <td>38</td>\n",
       "      <td>Private</td>\n",
       "      <td>215646</td>\n",
       "      <td>HS-grad</td>\n",
       "      <td>9</td>\n",
       "      <td>Not-Married</td>\n",
       "      <td>Blue-Collar</td>\n",
       "      <td>Not-in-family</td>\n",
       "      <td>White</td>\n",
       "      <td>Male</td>\n",
       "      <td>None</td>\n",
       "      <td>None</td>\n",
       "      <td>40</td>\n",
       "      <td>United-States</td>\n",
       "      <td>incLow</td>\n",
       "      <td>0.000000</td>\n",
       "      <td>0.0</td>\n",
       "      <td>Ag3</td>\n",
       "      <td>HW2</td>\n",
       "    </tr>\n",
       "    <tr>\n",
       "      <th>3</th>\n",
       "      <td>53</td>\n",
       "      <td>Private</td>\n",
       "      <td>234721</td>\n",
       "      <td>Dropout</td>\n",
       "      <td>7</td>\n",
       "      <td>Married</td>\n",
       "      <td>Blue-Collar</td>\n",
       "      <td>Husband</td>\n",
       "      <td>Black</td>\n",
       "      <td>Male</td>\n",
       "      <td>None</td>\n",
       "      <td>None</td>\n",
       "      <td>40</td>\n",
       "      <td>United-States</td>\n",
       "      <td>incLow</td>\n",
       "      <td>0.000000</td>\n",
       "      <td>0.0</td>\n",
       "      <td>Ag5</td>\n",
       "      <td>HW2</td>\n",
       "    </tr>\n",
       "    <tr>\n",
       "      <th>4</th>\n",
       "      <td>28</td>\n",
       "      <td>Private</td>\n",
       "      <td>338409</td>\n",
       "      <td>Bachelors</td>\n",
       "      <td>13</td>\n",
       "      <td>Married</td>\n",
       "      <td>Professional</td>\n",
       "      <td>Wife</td>\n",
       "      <td>Black</td>\n",
       "      <td>Female</td>\n",
       "      <td>None</td>\n",
       "      <td>None</td>\n",
       "      <td>40</td>\n",
       "      <td>Other</td>\n",
       "      <td>incLow</td>\n",
       "      <td>0.000000</td>\n",
       "      <td>0.0</td>\n",
       "      <td>Ag2</td>\n",
       "      <td>HW2</td>\n",
       "    </tr>\n",
       "  </tbody>\n",
       "</table>\n",
       "</div>"
      ],
      "text/plain": [
       "   age      workClass  fnlwgt  education  educNum       mariStat  \\\n",
       "0   39     Other-Govt   77516  Bachelors       13  Never-Married   \n",
       "1   50  Self-Employed   83311  Bachelors       13        Married   \n",
       "2   38        Private  215646    HS-grad        9    Not-Married   \n",
       "3   53        Private  234721    Dropout        7        Married   \n",
       "4   28        Private  338409  Bachelors       13        Married   \n",
       "\n",
       "          occup   relationship origEthn     sex capitalGain capitalLoss  \\\n",
       "0         Admin  Not-in-family    White    Male       cgLow        None   \n",
       "1  White-Collar        Husband    White    Male        None        None   \n",
       "2   Blue-Collar  Not-in-family    White    Male        None        None   \n",
       "3   Blue-Collar        Husband    Black    Male        None        None   \n",
       "4  Professional           Wife    Black  Female        None        None   \n",
       "\n",
       "   hoursWeek   nativCountry  income  LcapitalGain  LcapitalLoss ageQ  \\\n",
       "0         40  United-States  incLow      7.684784           0.0  Ag3   \n",
       "1         13  United-States  incLow      0.000000           0.0  Ag4   \n",
       "2         40  United-States  incLow      0.000000           0.0  Ag3   \n",
       "3         40  United-States  incLow      0.000000           0.0  Ag5   \n",
       "4         40          Other  incLow      0.000000           0.0  Ag2   \n",
       "\n",
       "  hoursWeekQ  \n",
       "0        HW2  \n",
       "1        HW1  \n",
       "2        HW2  \n",
       "3        HW2  \n",
       "4        HW2  "
      ]
     },
     "execution_count": 155,
     "metadata": {},
     "output_type": "execute_result"
    }
   ],
   "source": [
    "path=\"\"\n",
    "adult = pd.read_table(path + 'adultCensus.csv', sep=',', header=0, index_col=None)\n",
    "idx = pd.Int64Index(range(adult.shape[0]))\n",
    "names = list(adult)\n",
    "adult = pd.DataFrame(index = idx, data = adult, columns=names)\n",
    "adult.head()"
   ]
  },
  {
   "cell_type": "markdown",
   "metadata": {},
   "source": [
    "Toutes les colonnes ont bien été importée, la première correspond à un identifiant unique pour chaque personne recensée. Si on oublie de le définir, une des autres colonnes est utilisée par défaut pour servir d'identifiant."
   ]
  },
  {
   "cell_type": "code",
   "execution_count": 156,
   "metadata": {},
   "outputs": [
    {
     "data": {
      "text/html": [
       "<div>\n",
       "<style scoped>\n",
       "    .dataframe tbody tr th:only-of-type {\n",
       "        vertical-align: middle;\n",
       "    }\n",
       "\n",
       "    .dataframe tbody tr th {\n",
       "        vertical-align: top;\n",
       "    }\n",
       "\n",
       "    .dataframe thead th {\n",
       "        text-align: right;\n",
       "    }\n",
       "</style>\n",
       "<table border=\"1\" class=\"dataframe\">\n",
       "  <thead>\n",
       "    <tr style=\"text-align: right;\">\n",
       "      <th></th>\n",
       "      <th>age</th>\n",
       "      <th>fnlwgt</th>\n",
       "      <th>educNum</th>\n",
       "      <th>hoursWeek</th>\n",
       "      <th>LcapitalGain</th>\n",
       "      <th>LcapitalLoss</th>\n",
       "    </tr>\n",
       "  </thead>\n",
       "  <tbody>\n",
       "    <tr>\n",
       "      <th>count</th>\n",
       "      <td>29825.000000</td>\n",
       "      <td>2.982500e+04</td>\n",
       "      <td>29825.000000</td>\n",
       "      <td>29825.000000</td>\n",
       "      <td>29825.000000</td>\n",
       "      <td>29825.000000</td>\n",
       "    </tr>\n",
       "    <tr>\n",
       "      <th>mean</th>\n",
       "      <td>38.676144</td>\n",
       "      <td>1.898787e+05</td>\n",
       "      <td>10.159430</td>\n",
       "      <td>41.157351</td>\n",
       "      <td>0.750215</td>\n",
       "      <td>0.356503</td>\n",
       "    </tr>\n",
       "    <tr>\n",
       "      <th>std</th>\n",
       "      <td>13.012291</td>\n",
       "      <td>1.057528e+05</td>\n",
       "      <td>2.536119</td>\n",
       "      <td>11.808849</td>\n",
       "      <td>2.481184</td>\n",
       "      <td>1.597815</td>\n",
       "    </tr>\n",
       "    <tr>\n",
       "      <th>min</th>\n",
       "      <td>18.000000</td>\n",
       "      <td>1.376900e+04</td>\n",
       "      <td>1.000000</td>\n",
       "      <td>1.000000</td>\n",
       "      <td>0.000000</td>\n",
       "      <td>0.000000</td>\n",
       "    </tr>\n",
       "    <tr>\n",
       "      <th>25%</th>\n",
       "      <td>28.000000</td>\n",
       "      <td>1.176270e+05</td>\n",
       "      <td>9.000000</td>\n",
       "      <td>40.000000</td>\n",
       "      <td>0.000000</td>\n",
       "      <td>0.000000</td>\n",
       "    </tr>\n",
       "    <tr>\n",
       "      <th>50%</th>\n",
       "      <td>37.000000</td>\n",
       "      <td>1.784870e+05</td>\n",
       "      <td>10.000000</td>\n",
       "      <td>40.000000</td>\n",
       "      <td>0.000000</td>\n",
       "      <td>0.000000</td>\n",
       "    </tr>\n",
       "    <tr>\n",
       "      <th>75%</th>\n",
       "      <td>47.000000</td>\n",
       "      <td>2.376710e+05</td>\n",
       "      <td>13.000000</td>\n",
       "      <td>45.000000</td>\n",
       "      <td>0.000000</td>\n",
       "      <td>0.000000</td>\n",
       "    </tr>\n",
       "    <tr>\n",
       "      <th>max</th>\n",
       "      <td>90.000000</td>\n",
       "      <td>1.484705e+06</td>\n",
       "      <td>16.000000</td>\n",
       "      <td>99.000000</td>\n",
       "      <td>11.512925</td>\n",
       "      <td>8.379539</td>\n",
       "    </tr>\n",
       "  </tbody>\n",
       "</table>\n",
       "</div>"
      ],
      "text/plain": [
       "                age        fnlwgt       educNum     hoursWeek  LcapitalGain  \\\n",
       "count  29825.000000  2.982500e+04  29825.000000  29825.000000  29825.000000   \n",
       "mean      38.676144  1.898787e+05     10.159430     41.157351      0.750215   \n",
       "std       13.012291  1.057528e+05      2.536119     11.808849      2.481184   \n",
       "min       18.000000  1.376900e+04      1.000000      1.000000      0.000000   \n",
       "25%       28.000000  1.176270e+05      9.000000     40.000000      0.000000   \n",
       "50%       37.000000  1.784870e+05     10.000000     40.000000      0.000000   \n",
       "75%       47.000000  2.376710e+05     13.000000     45.000000      0.000000   \n",
       "max       90.000000  1.484705e+06     16.000000     99.000000     11.512925   \n",
       "\n",
       "       LcapitalLoss  \n",
       "count  29825.000000  \n",
       "mean       0.356503  \n",
       "std        1.597815  \n",
       "min        0.000000  \n",
       "25%        0.000000  \n",
       "50%        0.000000  \n",
       "75%        0.000000  \n",
       "max        8.379539  "
      ]
     },
     "execution_count": 156,
     "metadata": {},
     "output_type": "execute_result"
    }
   ],
   "source": [
    "adult.describe()"
   ]
  },
  {
   "cell_type": "markdown",
   "metadata": {},
   "source": [
    "Aucune donnée n'est manquante, on observe pas non plus de résultat aberrant à première vue.\n",
    "\n",
    "On va à présent préparer les données en commençant par affecter le bon type aux variables qualitatives."
   ]
  },
  {
   "cell_type": "markdown",
   "metadata": {},
   "source": [
    "Une fonction permet de définir le bon type \"categorical\" des variables qualitatives  en utilisant un dictionnaire des modalités pour le recodage."
   ]
  },
  {
   "cell_type": "code",
   "execution_count": 157,
   "metadata": {},
   "outputs": [],
   "source": [
    "# Ici les noms des variables sont suffisamment explicites, il n'est pas utile de les renommer.\n",
    "def create_categorical_data(df, column_name) :  # , cat_name_dic\n",
    "    cat_columns = pd.Categorical(df[column_name], ordered=False)\n",
    "    #new_categorie = [cat_name_dic[old_name] for old_name in cat_columns.categories]\n",
    "    return cat_columns  # .rename_categories(new_categorie)"
   ]
  },
  {
   "cell_type": "code",
   "execution_count": 160,
   "metadata": {},
   "outputs": [],
   "source": [
    "for var_qual in [\"workClass\", \"education\", \"occup\", \"relationship\", \"sex\", \"nativCountry\", \"origEthn\", \"mariStat\", \"capitalGain\", \"capitalLoss\", \"income\", \"ageQ\", \"hoursWeekQ\"] :\n",
    "    adult[var_qual] = create_categorical_data(adult, var_qual)"
   ]
  },
  {
   "cell_type": "markdown",
   "metadata": {},
   "source": [
    "## 2 Description\n",
    "**Q** Quelle est la population étudiée ? Quel est l’échantillon ?"
   ]
  },
  {
   "cell_type": "code",
   "execution_count": 163,
   "metadata": {},
   "outputs": [
    {
     "name": "stdout",
     "output_type": "stream",
     "text": [
      "(29825, 19)\n"
     ]
    }
   ],
   "source": [
    "print(adult.shape)"
   ]
  },
  {
   "cell_type": "markdown",
   "metadata": {},
   "source": [
    "On étudie les résultats d'un recensement portant sur 29825 adultes américains.\n",
    "\n",
    "**Q** Commenter, justifier les différentes transformations opérées. Repérer les variables quantitatives, qualitatives. Certaines (`age`, `hoursWeek`) sont présentes sous les deux types. Beaucoup de modalités on déjà été regroupées, notamment celles de `nativCountry` (voir le programme) certaines variables sont rendues qualitatives (`capitalLoss` ou `Gain`).\n",
    "\n",
    "Les modalités des variables `mariStat`, `nativCountry`, `education`, `workClass`, `occup` et `origin` ont été regroupées. \n",
    "\n",
    "Deux nouvelles variables `LcapitalGain` et `LcapitalLoss` sont créées et valent respectivement $\\log (1 + capitalGain)$ et $\\log (1 + capitalLoss)$.\n",
    "\n",
    "Les deux variables `capitalGain` et `capitalLoss` sont rendues qualitatives et valent None, Low ou High suivant si elles sont négatives, inférieures à leur médiane ou supérieures.\n"
   ]
  },
  {
   "cell_type": "code",
   "execution_count": 73,
   "metadata": {},
   "outputs": [
    {
     "data": {
      "image/png": "[encoded data removed]",
      "text/plain": [
       "<Figure size 432x288 with 1 Axes>"
      ]
     },
     "metadata": {
      "needs_background": "light"
     },
     "output_type": "display_data"
    },
    {
     "data": {
      "image/png": "[encoded data removed]",
      "text/plain": [
       "<Figure size 432x288 with 1 Axes>"
      ]
     },
     "metadata": {
      "needs_background": "light"
     },
     "output_type": "display_data"
    }
   ],
   "source": [
    "adult[\"LcapitalGain\"].hist()\n",
    "plt.show()\n",
    "adult[\"capitalGain\"].dtype\n",
    "plt.boxplot(adult[\"LcapitalGain\"])\n",
    "plt.show()"
   ]
  },
  {
   "cell_type": "markdown",
   "metadata": {},
   "source": [
    "**Q** Quels sont ces graphiques? Que dire de la transformation  opérée ? La variable CapitalLoss subit le même traitement.\n",
    "\n",
    "Ces deux graphiques sont un histogramme et un boxplot de la variable `LcapitalGain`. La transformation permet de bien séparer les valeurs à None des autres. Cependant les deux modalités Low et High ne sont pas séparées sur ces graphiques. On remarque que la modalité None est très majoritaire dans l'échantillon."
   ]
  },
  {
   "cell_type": "code",
   "execution_count": 76,
   "metadata": {},
   "outputs": [
    {
     "data": {
      "text/plain": [
       "count     29825\n",
       "unique        3\n",
       "top        None\n",
       "freq      27295\n",
       "Name: capitalGain, dtype: object"
      ]
     },
     "execution_count": 76,
     "metadata": {},
     "output_type": "execute_result"
    }
   ],
   "source": [
    "adult[\"capitalGain\"].describe()"
   ]
  },
  {
   "cell_type": "markdown",
   "metadata": {},
   "source": [
    "Certains couples de variables posent des problèmes. "
   ]
  },
  {
   "cell_type": "code",
   "execution_count": 102,
   "metadata": {},
   "outputs": [
    {
     "name": "stdout",
     "output_type": "stream",
     "text": [
      "relationship    sex   \n",
      "Husband         Female        1\n",
      "                Male      12459\n",
      "Not-in-family   Female     3563\n",
      "                Male       4150\n",
      "Other-relative  Female      379\n",
      "                Male        493\n",
      "Own-child       Female     1825\n",
      "                Male       2343\n",
      "Unmarried       Female     2459\n",
      "                Male        747\n",
      "Wife            Female     1405\n",
      "                Male          1\n",
      "dtype: int64\n",
      "\n",
      "education    educNum\n",
      "Associates   11         1307\n",
      "             12         1008\n",
      "Bachelors    13         5043\n",
      "Doctorate    16          375\n",
      "Dropout      1            45\n",
      "             2           151\n",
      "             3           287\n",
      "             4           554\n",
      "             5           432\n",
      "             6           714\n",
      "             7           894\n",
      "             8           344\n",
      "HS-Graduate  10         6674\n",
      "HS-grad      9          9829\n",
      "Masters      14         1626\n",
      "Prof-School  15          542\n",
      "dtype: int64\n",
      "\n",
      "mariStat       relationship  \n",
      "Married        Husband           12460\n",
      "               Not-in-family        14\n",
      "               Other-relative      118\n",
      "               Own-child            83\n",
      "               Wife               1406\n",
      "Never-Married  Not-in-family      4435\n",
      "               Other-relative      532\n",
      "               Own-child          3632\n",
      "               Unmarried           795\n",
      "Not-Married    Not-in-family      2832\n",
      "               Other-relative      182\n",
      "               Own-child           441\n",
      "               Unmarried          2068\n",
      "Widowed        Not-in-family       432\n",
      "               Other-relative       40\n",
      "               Own-child            12\n",
      "               Unmarried           343\n",
      "dtype: int64\n",
      "\n",
      "origEthn     nativCountry        \n",
      "Amer-Indian  China                       1\n",
      "             Euro_1                      1\n",
      "             Euro_2                      2\n",
      "             Latin-America               9\n",
      "             SE-Asia                     1\n",
      "             South-America               1\n",
      "             United-States             267\n",
      "Asian        British-Commonwealth       88\n",
      "             China                     122\n",
      "             Euro_1                      2\n",
      "             Euro_2                     71\n",
      "             Latin-America               6\n",
      "             Other                      43\n",
      "             SE-Asia                   290\n",
      "             United-States             272\n",
      "Black        British-Commonwealth        9\n",
      "             Euro_1                      7\n",
      "             Latin-America             163\n",
      "             Other                       6\n",
      "             SE-Asia                     1\n",
      "             South-America               1\n",
      "             United-States            2603\n",
      "Other        British-Commonwealth        6\n",
      "             Euro_1                      1\n",
      "             Latin-America              84\n",
      "             Other                       5\n",
      "             South-America              20\n",
      "             United-States             111\n",
      "White        British-Commonwealth      221\n",
      "             China                       6\n",
      "             Euro_1                    213\n",
      "             Euro_2                    145\n",
      "             Latin-America             779\n",
      "             Other                     139\n",
      "             SE-Asia                    12\n",
      "             South-America             188\n",
      "             United-States           23929\n",
      "dtype: int64\n"
     ]
    }
   ],
   "source": [
    "print(adult.groupby([\"relationship\", \"sex\"]).size())\n",
    "print()\n",
    "print(adult.groupby([\"education\", \"educNum\"]).size())\n",
    "print()\n",
    "print(adult.groupby([\"mariStat\", \"relationship\"]).size())\n",
    "print()\n",
    "print(adult.groupby([\"origEthn\", \"nativCountry\"]).size())"
   ]
  },
  {
   "cell_type": "markdown",
   "metadata": {},
   "source": [
    "**Q** Quel est ce problème général ? Qu’est-ce qui va se passer si on en calcule l’analyse des correspondances ? Quel est le problème plus spécifique des variables `relationship` et `sex`?\n",
    "\n",
    "Le problème est que les informations apportées par ces couples de variables sont souvent redondantes. \n",
    "\n",
    "Il va se passer quoi ? \n",
    "\n",
    "Les valeurs Wife et Husband de la variable `relationship` portent déjà l'information de la variable `sex`. On remarque d'ailleurs une probable erreur de saisie avec un homme marqué Wife et une femme Husband.  (Faut la corriger, la supprimer ? En tout cas on peut les retrouver comme ça, y'a plus qu'à voir ce qu'on en fait)"
   ]
  },
  {
   "cell_type": "code",
   "execution_count": 171,
   "metadata": {},
   "outputs": [
    {
     "data": {
      "text/html": [
       "<div>\n",
       "<style scoped>\n",
       "    .dataframe tbody tr th:only-of-type {\n",
       "        vertical-align: middle;\n",
       "    }\n",
       "\n",
       "    .dataframe tbody tr th {\n",
       "        vertical-align: top;\n",
       "    }\n",
       "\n",
       "    .dataframe thead th {\n",
       "        text-align: right;\n",
       "    }\n",
       "</style>\n",
       "<table border=\"1\" class=\"dataframe\">\n",
       "  <thead>\n",
       "    <tr style=\"text-align: right;\">\n",
       "      <th></th>\n",
       "      <th>age</th>\n",
       "      <th>workClass</th>\n",
       "      <th>fnlwgt</th>\n",
       "      <th>education</th>\n",
       "      <th>educNum</th>\n",
       "      <th>mariStat</th>\n",
       "      <th>occup</th>\n",
       "      <th>relationship</th>\n",
       "      <th>origEthn</th>\n",
       "      <th>sex</th>\n",
       "      <th>capitalGain</th>\n",
       "      <th>capitalLoss</th>\n",
       "      <th>hoursWeek</th>\n",
       "      <th>nativCountry</th>\n",
       "      <th>income</th>\n",
       "      <th>LcapitalGain</th>\n",
       "      <th>LcapitalLoss</th>\n",
       "      <th>ageQ</th>\n",
       "      <th>hoursWeekQ</th>\n",
       "    </tr>\n",
       "  </thead>\n",
       "  <tbody>\n",
       "    <tr>\n",
       "      <th>6489</th>\n",
       "      <td>34</td>\n",
       "      <td>Private</td>\n",
       "      <td>175878</td>\n",
       "      <td>HS-grad</td>\n",
       "      <td>9</td>\n",
       "      <td>Married</td>\n",
       "      <td>Sales</td>\n",
       "      <td>Husband</td>\n",
       "      <td>White</td>\n",
       "      <td>Female</td>\n",
       "      <td>None</td>\n",
       "      <td>None</td>\n",
       "      <td>40</td>\n",
       "      <td>United-States</td>\n",
       "      <td>incLow</td>\n",
       "      <td>0.0</td>\n",
       "      <td>0.0</td>\n",
       "      <td>Ag3</td>\n",
       "      <td>HW2</td>\n",
       "    </tr>\n",
       "  </tbody>\n",
       "</table>\n",
       "</div>"
      ],
      "text/plain": [
       "      age workClass  fnlwgt education  educNum mariStat  occup relationship  \\\n",
       "6489   34   Private  175878   HS-grad        9  Married  Sales      Husband   \n",
       "\n",
       "     origEthn     sex capitalGain capitalLoss  hoursWeek   nativCountry  \\\n",
       "6489    White  Female        None        None         40  United-States   \n",
       "\n",
       "      income  LcapitalGain  LcapitalLoss ageQ hoursWeekQ  \n",
       "6489  incLow           0.0           0.0  Ag3        HW2  "
      ]
     },
     "execution_count": 171,
     "metadata": {},
     "output_type": "execute_result"
    }
   ],
   "source": [
    "adult[(adult[\"relationship\"]  == \"Husband\") & (adult[\"sex\"] == \"Female\")]"
   ]
  },
  {
   "cell_type": "code",
   "execution_count": 172,
   "metadata": {},
   "outputs": [
    {
     "data": {
      "text/html": [
       "<div>\n",
       "<style scoped>\n",
       "    .dataframe tbody tr th:only-of-type {\n",
       "        vertical-align: middle;\n",
       "    }\n",
       "\n",
       "    .dataframe tbody tr th {\n",
       "        vertical-align: top;\n",
       "    }\n",
       "\n",
       "    .dataframe thead th {\n",
       "        text-align: right;\n",
       "    }\n",
       "</style>\n",
       "<table border=\"1\" class=\"dataframe\">\n",
       "  <thead>\n",
       "    <tr style=\"text-align: right;\">\n",
       "      <th></th>\n",
       "      <th>age</th>\n",
       "      <th>workClass</th>\n",
       "      <th>fnlwgt</th>\n",
       "      <th>education</th>\n",
       "      <th>educNum</th>\n",
       "      <th>mariStat</th>\n",
       "      <th>occup</th>\n",
       "      <th>relationship</th>\n",
       "      <th>origEthn</th>\n",
       "      <th>sex</th>\n",
       "      <th>capitalGain</th>\n",
       "      <th>capitalLoss</th>\n",
       "      <th>hoursWeek</th>\n",
       "      <th>nativCountry</th>\n",
       "      <th>income</th>\n",
       "      <th>LcapitalGain</th>\n",
       "      <th>LcapitalLoss</th>\n",
       "      <th>ageQ</th>\n",
       "      <th>hoursWeekQ</th>\n",
       "    </tr>\n",
       "  </thead>\n",
       "  <tbody>\n",
       "    <tr>\n",
       "      <th>521</th>\n",
       "      <td>29</td>\n",
       "      <td>Private</td>\n",
       "      <td>350162</td>\n",
       "      <td>Bachelors</td>\n",
       "      <td>13</td>\n",
       "      <td>Married</td>\n",
       "      <td>White-Collar</td>\n",
       "      <td>Wife</td>\n",
       "      <td>White</td>\n",
       "      <td>Male</td>\n",
       "      <td>None</td>\n",
       "      <td>None</td>\n",
       "      <td>40</td>\n",
       "      <td>United-States</td>\n",
       "      <td>incHigh</td>\n",
       "      <td>0.0</td>\n",
       "      <td>0.0</td>\n",
       "      <td>Ag2</td>\n",
       "      <td>HW2</td>\n",
       "    </tr>\n",
       "  </tbody>\n",
       "</table>\n",
       "</div>"
      ],
      "text/plain": [
       "     age workClass  fnlwgt  education  educNum mariStat         occup  \\\n",
       "521   29   Private  350162  Bachelors       13  Married  White-Collar   \n",
       "\n",
       "    relationship origEthn   sex capitalGain capitalLoss  hoursWeek  \\\n",
       "521         Wife    White  Male        None        None         40   \n",
       "\n",
       "      nativCountry   income  LcapitalGain  LcapitalLoss ageQ hoursWeekQ  \n",
       "521  United-States  incHigh           0.0           0.0  Ag2        HW2  "
      ]
     },
     "execution_count": 172,
     "metadata": {},
     "output_type": "execute_result"
    }
   ],
   "source": [
    "adult[(adult[\"relationship\"]  == \"Wife\") & (adult[\"sex\"] == \"Male\")]"
   ]
  },
  {
   "cell_type": "code",
   "execution_count": 104,
   "metadata": {},
   "outputs": [
    {
     "data": {
      "image/png": "[encoded data removed]",
      "text/plain": [
       "<Figure size 432x288 with 3 Axes>"
      ]
     },
     "metadata": {
      "needs_background": "light"
     },
     "output_type": "display_data"
    }
   ],
   "source": [
    "from statsmodels.graphics.mosaicplot import mosaic\n",
    "\n",
    "mosaic(adult, [\"sex\", \"occup\"])\n",
    "plt.show()"
   ]
  },
  {
   "cell_type": "markdown",
   "metadata": {},
   "source": [
    "**Q** Quel graphique ci-dessus?  Quelle interprétation ? Quel est le test ci-dessous ? Que doit vérifier la table pour que ce test soit valide ? Quelle est l’hypothèse H0 testée ? Conclusion.\n",
    "\n",
    "Ce graphique est un mosaic plot de la variable `occup` en fonction de la variable `sex`. On observe que la variable `sex` est un facteur qui influe sur le type d'emploi occupé, en effet les emplois administratifs et de service représentent une part beaucoup plus ilmportante chez les femmes que chez les hommes. A l'inverse, la catégorie Blue COllar est sur-représentée chez les hommes.\n",
    "\n",
    "Le test ci-dessous est un test du Chi-deux, mais aucune idée de à quoi il sert."
   ]
  },
  {
   "cell_type": "code",
   "execution_count": 105,
   "metadata": {},
   "outputs": [],
   "source": [
    "# Traduire chisq.test(table(dataBase[,\"sex\"],dataBase[,\"occup\"]))"
   ]
  },
  {
   "cell_type": "markdown",
   "metadata": {},
   "source": [
    "**Q** Quel est le graphique ci-dessous? Comment interpréter? Quel test permettrait de confirmer ? Que dire de l’intérêt de cette variable [fnlwgt](http://web.cs.wpi.edu/~cs4341/C00/Projects/fnlwgt) (Final sampling weight)?\n",
    "\n",
    "Ce graphique est un boxplot de la variable `fnlwgt` en fonction de `income`. On observe que les personnes aux revenus plus faibles ont plus souvent un `fnlwgt` élevé. Cependant, les différents quantiles sont quasiment identiques pour les deux modalités de `income`. On pourrait réaliser un test d'indépendance du Chi-deux pour le vérifier."
   ]
  },
  {
   "cell_type": "code",
   "execution_count": 141,
   "metadata": {},
   "outputs": [
    {
     "data": {
      "image/png": "[encoded data removed]",
      "text/plain": [
       "<Figure size 432x288 with 1 Axes>"
      ]
     },
     "metadata": {
      "needs_background": "light"
     },
     "output_type": "display_data"
    }
   ],
   "source": [
    "adult.boxplot(column=\"fnlwgt\", by=\"income\")\n",
    "plt.show()"
   ]
  },
  {
   "cell_type": "code",
   "execution_count": 145,
   "metadata": {
    "scrolled": true
   },
   "outputs": [
    {
     "name": "stdout",
     "output_type": "stream",
     "text": [
      "income   incHigh  incLow\n",
      "fnlwgt                  \n",
      "13769          0       1\n",
      "14878          1       0\n",
      "18827          0       1\n",
      "19214          0       1\n",
      "19302          3       2\n",
      "19395          0       2\n",
      "19410          0       1\n",
      "19491          0       1\n",
      "19520          0       1\n",
      "19700          1       0\n",
      "19847          0       2\n",
      "19899          1       0\n",
      "19914          1       3\n",
      "20057          0       2\n",
      "20098          0       1\n",
      "20101          0       1\n",
      "20109          0       1\n",
      "20179          1       0\n",
      "20296          1       0\n",
      "20308          0       1\n",
      "20323          0       1\n",
      "20333          1       0\n",
      "20438          0       1\n",
      "20469          0       1\n",
      "20507          1       0\n",
      "20511          0       1\n",
      "20534          1       2\n",
      "20676          0       1\n",
      "20728          0       1\n",
      "20795          3       1\n",
      "...          ...     ...\n",
      "761006         0       1\n",
      "766115         0       1\n",
      "767403         1       0\n",
      "791084         0       1\n",
      "795830         0       1\n",
      "799281         0       1\n",
      "806552         1       0\n",
      "809585         1       0\n",
      "816750         0       1\n",
      "849857         0       1\n",
      "857532         0       2\n",
      "889965         0       1\n",
      "910398         0       1\n",
      "913447         0       1\n",
      "917220         0       1\n",
      "930948         0       1\n",
      "953588         1       0\n",
      "972354         0       1\n",
      "1033222        1       1\n",
      "1038553        0       1\n",
      "1085515        0       1\n",
      "1097453        1       0\n",
      "1125613        0       1\n",
      "1161363        0       1\n",
      "1184622        0       1\n",
      "1226583        1       0\n",
      "1268339        0       1\n",
      "1366120        0       1\n",
      "1455435        0       1\n",
      "1484705        0       1\n",
      "\n",
      "[19964 rows x 2 columns]\n"
     ]
    }
   ],
   "source": [
    "tab = pd.crosstab(index=adult[\"fnlwgt\"], columns=adult[\"income\"])\n",
    "print(tab)\n",
    "\n",
    "# Donne pas grand chose, on pourrait peut-être regrouper par classes ou faire un test sur les quantiles de fnlwgt pour \n",
    "# voir s'ils bougent en fonction de income ?\n"
   ]
  },
  {
   "cell_type": "markdown",
   "metadata": {},
   "source": [
    "**Q** Que dire dans la figure ci-dessous de la liaison entre les variables `educNum` et `age` et de la localisation des points noirs (>50k€) par rapport aux rouges (<50k€) ?"
   ]
  },
  {
   "cell_type": "code",
   "execution_count": 153,
   "metadata": {},
   "outputs": [
    {
     "data": {
      "image/png": "[encoded data removed]",
      "text/plain": [
       "<Figure size 432x288 with 1 Axes>"
      ]
     },
     "metadata": {
      "needs_background": "light"
     },
     "output_type": "display_data"
    }
   ],
   "source": [
    "# plot(dataBase[,\"age\"],dataBase[,\"educNum\"],col=as.integer(dataBase[,\"income\"]),pch=16,cex=0.5)\n",
    "\n",
    "col = adult[\"income\"].map({\"incHigh\":'black', \"incLow\":'r'})\n",
    "adult.plot.scatter(x=\"age\", y=\"educNum\", c=col)\n",
    "plt.show()"
   ]
  },
  {
   "cell_type": "markdown",
   "metadata": {},
   "source": [
    "On observe que les hauts revenus correspondent généralement aux personnes avec un haut niveau d'éducation et ayant entre 35 et 65 ans."
   ]
  },
  {
   "cell_type": "markdown",
   "metadata": {},
   "source": [
    "## 3 [Analyse en composantes principales](http://wikistat.fr/pdf/st-m-explo-acp.pdf)\n",
    "**Q** Que représente la figure ci-dessous? "
   ]
  },
  {
   "cell_type": "code",
   "execution_count": 174,
   "metadata": {},
   "outputs": [],
   "source": [
    "# nrow(as.vector(table(dataBase[,\"age\"],dataBase[,\"educNum\"])))\n",
    "\n",
    "# Donne rien sur Rstudio, à tester à l'INSA"
   ]
  },
  {
   "cell_type": "markdown",
   "metadata": {},
   "source": [
    "**Q** Quelle est le graphe ci-dessous? Quel est le cercle?  A quoi sert-il ?\n",
    "\n",
    "Ce graphe est la carte factorielle associée aux deux premières composantes de l'ACP. Elle permet de visualiser à quel axe contribue chaque variable. (moyen sûr, à vérifier).\n",
    "\n",
    "Le cercle des corrélations permet de voir à quel point les variables sont bien représentées sur les deux plans factoriels, plus la flèche est proche du cercle plus la variable est bien représentée."
   ]
  },
  {
   "cell_type": "code",
   "execution_count": 214,
   "metadata": {},
   "outputs": [
    {
     "name": "stderr",
     "output_type": "stream",
     "text": [
      "C:\\Users\\paul-\\Anaconda3\\lib\\site-packages\\ipykernel_launcher.py:11: DataConversionWarning: Data with input dtype int64, float64 were all converted to float64 by the scale function.\n",
      "  # This is added back by InteractiveShellApp.init_path()\n"
     ]
    }
   ],
   "source": [
    "from sklearn.decomposition import PCA\n",
    "from sklearn.preprocessing import scale\n",
    "\n",
    "# définition de la commande\n",
    "pca = PCA()\n",
    "# Liste des variables quantitatives\n",
    "quantit = [name for name in list(adult) if adult[name].dtype.name != \"category\"]\n",
    "# Sélection des variables quantitatives\n",
    "dat = adult[quantit]\n",
    "# réduction\n",
    "data = pd.DataFrame(scale(dat),columns=dat.columns)\n",
    "# composantes principales\n",
    "C = pca.fit(data).transform(data)"
   ]
  },
  {
   "cell_type": "code",
   "execution_count": 215,
   "metadata": {},
   "outputs": [
    {
     "data": {
      "image/png": "[encoded data removed]",
      "text/plain": [
       "<Figure size 576x576 with 1 Axes>"
      ]
     },
     "metadata": {
      "needs_background": "light"
     },
     "output_type": "display_data"
    }
   ],
   "source": [
    "# coordonnées des variables\n",
    "coord1=pca.components_[0]*np.sqrt(pca.explained_variance_[0])\n",
    "coord2=pca.components_[1]*np.sqrt(pca.explained_variance_[1])\n",
    "fig = plt.figure(figsize=(8,8))\n",
    "ax = fig.add_subplot(1, 1, 1)\n",
    "for i, j, nom in zip(coord1,coord2, data.columns):\n",
    "    plt.text(i, j, nom)\n",
    "    plt.arrow(0,0,i,j,color='r')\n",
    "plt.axis((-1.2,1.2,-1.2,1.2))\n",
    "# cercle\n",
    "c=plt.Circle((0,0), radius=1, color='b', fill=False)\n",
    "ax.add_patch(c)\n",
    "plt.show()"
   ]
  },
  {
   "cell_type": "markdown",
   "metadata": {},
   "source": [
    "**Q** La représentation ci-dessous montre un artefact avec 3 paquets d’individus. A quoi est dû cet artéfact ? Est-il utile à la compréhension des données ? \n",
    "\n",
    "Hélas y'a pas le modèle sur Visa, va falloir se débrouiller sans copier-coller.\n",
    "\n"
   ]
  },
  {
   "cell_type": "markdown",
   "metadata": {},
   "source": [
    "### Desciption univariée et bivariée"
   ]
  },
  {
   "cell_type": "code",
   "execution_count": null,
   "metadata": {},
   "outputs": [],
   "source": [
    "# Moyennes\n",
    "visaprem=visaraw\n",
    "visaprem.mean()"
   ]
  },
  {
   "cell_type": "markdown",
   "metadata": {},
   "source": [
    "**Q** Quel problème révèle la distribution ci-dessous de la variable  « ancienneté dans la banque », exprimée en mois?"
   ]
  },
  {
   "cell_type": "code",
   "execution_count": null,
   "metadata": {},
   "outputs": [],
   "source": [
    "visaprem[\"RELAT\"].hist(bins=20)\n",
    "plt.show()"
   ]
  },
  {
   "cell_type": "markdown",
   "metadata": {},
   "source": [
    "**Q** Que dire de la distribution de la variable ci-dessous? Quelle transformaiton proposer?"
   ]
  },
  {
   "cell_type": "code",
   "execution_count": null,
   "metadata": {},
   "outputs": [],
   "source": [
    "visaprem[\"TAVEP\"].hist(bins=20)\n",
    "plt.show()"
   ]
  },
  {
   "cell_type": "code",
   "execution_count": null,
   "metadata": {},
   "outputs": [],
   "source": [
    "visaprem[\"QSMOY\"].hist(bins=20)\n",
    "plt.show()"
   ]
  },
  {
   "cell_type": "code",
   "execution_count": null,
   "metadata": {},
   "outputs": [],
   "source": [
    "import scipy.stats as stats\n",
    "stats.probplot(visaprem[\"QSMOY\"], dist=\"norm\", plot=plt)"
   ]
  },
  {
   "cell_type": "markdown",
   "metadata": {},
   "source": [
    "**Q**  Quel problème pose les deux variables ci-dessous? Quelle correction proposer?"
   ]
  },
  {
   "cell_type": "code",
   "execution_count": null,
   "metadata": {},
   "outputs": [],
   "source": [
    "visaprem[\"PCSPQ\"].value_counts()"
   ]
  },
  {
   "cell_type": "code",
   "execution_count": null,
   "metadata": {},
   "outputs": [],
   "source": [
    "visaprem[\"FAMIQ\"].value_counts()"
   ]
  },
  {
   "cell_type": "markdown",
   "metadata": {},
   "source": [
    "**Q** Quel est le graphe ci-dessous? Les variables vous semblent-elles liées?"
   ]
  },
  {
   "cell_type": "code",
   "execution_count": null,
   "metadata": {},
   "outputs": [],
   "source": [
    "visaprem.boxplot('QSMOY','CARVP')\n",
    "plt.show()"
   ]
  },
  {
   "cell_type": "markdown",
   "metadata": {},
   "source": [
    "La moyenne des soldes moyens sur trois mois `QSMOY` pose un problème mais elle semble peu discriminante, elle est conservée en l'état. Sinon une transformation par la fonction \"argument sinus hyperbolique\" peut être utilisée avec ce type de distribution mais ce n'est pas indispensable.\n",
    "\n",
    "**Q** Que représente le graphique ci-dessous? Interprétation en quelques lignes. Ces variables semblent-elles liées ? "
   ]
  },
  {
   "cell_type": "code",
   "execution_count": null,
   "metadata": {},
   "outputs": [],
   "source": [
    "from statsmodels.graphics.mosaicplot import mosaic\n",
    "visaprem[\"SEXEQ\"]=visaprem[\"SEXEQ\"].cat.remove_unused_categories()\n",
    "table=pd.crosstab(visaprem[\"SEXEQ\"],visaprem[\"CARVP\"])\n",
    "print(table)\n",
    "mosaic(table.stack())\n",
    "plt.show()"
   ]
  },
  {
   "cell_type": "markdown",
   "metadata": {},
   "source": [
    "**Q** Quel problème révèle le tableau ci-dessous? Comment le régler?"
   ]
  },
  {
   "cell_type": "code",
   "execution_count": null,
   "metadata": {},
   "outputs": [],
   "source": [
    "table=pd.crosstab(visaprem[\"NTCAS\"],visaprem[\"CARVP\"])\n",
    "print(table)"
   ]
  },
  {
   "cell_type": "markdown",
   "metadata": {},
   "source": [
    "**Q** Ce graphique représente la variable « ancienneté dans la banque », exprimée en mois, en fonction de l’âge du client en années. Quelle incohérence montre ce graphique ? Quelles en est la raison?."
   ]
  },
  {
   "cell_type": "code",
   "execution_count": null,
   "metadata": {},
   "outputs": [],
   "source": [
    "visaprem.plot('AGER','RELAT',kind='scatter')\n",
    "plt.show()"
   ]
  },
  {
   "cell_type": "markdown",
   "metadata": {},
   "source": [
    "**Q** Quel problème révèle le tableau ci-dessous? Comment le résoudre?"
   ]
  },
  {
   "cell_type": "code",
   "execution_count": null,
   "metadata": {},
   "outputs": [],
   "source": [
    "table=pd.crosstab(visaprem[\"NTCAS\"],visaprem[\"ZOCNB\"].isnull())\n",
    "print(table)"
   ]
  },
  {
   "cell_type": "code",
   "execution_count": null,
   "metadata": {},
   "outputs": [],
   "source": [
    "#Transformations des variables \n",
    "## regroupements de modalités\n",
    "visatrans=visaprem\n",
    "FAMIQ_DIC = {\"Fmar\":'Fcou',\"Fuli\":'Fcou',\"Fdiv\":'Fseu','Fveu':'Fseu',\n",
    "                        \"Fsep\":'Fseu',\"Fcel\":'Fseu'}\n",
    "PCSPQ_DIC = {\"Pagr\":\"Pint\",'Part':\"Pint\",\"Pret\":\"Psan\",\"Pinc\":\"Psan\"}\n",
    "# attention de bien gétrer le type des variables\n",
    "visatrans[\"PCSPQ\"]=pd.Categorical(visatrans[\"PCSPQ\"].astype(str).replace(PCSPQ_DIC),ordered=False)\n",
    "visatrans[\"FAMIQ\"]=visatrans[\"FAMIQ\"].astype(str).replace(FAMIQ_DIC)"
   ]
  },
  {
   "cell_type": "code",
   "execution_count": null,
   "metadata": {},
   "outputs": [],
   "source": [
    "# complétion de valeurs\n",
    "visatrans[\"ZOCNB\"].fillna(0, inplace=True)\n",
    "visatrans[\"ZOCNB\"]\n",
    "visatrans = visatrans[visatrans.DMVTP.notnull()]\n",
    "# Correction ancienneté relation\n",
    "visatrans[\"RELAT\"]= [x-720 if x>600 else x for x in visatrans[\"RELAT\"]]"
   ]
  },
  {
   "cell_type": "code",
   "execution_count": null,
   "metadata": {},
   "outputs": [],
   "source": [
    "# log des variables de distribution dissymétrique \n",
    "def log1(x):\n",
    "    return np.log(1+x)\n",
    "listeVarLog=['OPGNB','MOYRV','TAVEP','ENDET','GAGET','GAGEC',\n",
    "'GAGEM','QCRED','DMVTP','BOPPN','FACAN','LGAGT',\n",
    "'VIEMT','XLGMT','YLVMT','ITAVC','HAVEF','JNBJD']\n",
    "visatrans[listeVarLog]=log1(visatrans[listeVarLog])\n",
    "visatrans[\"ZOCNB\"]=np.sqrt(visatrans[\"ZOCNB\"])"
   ]
  },
  {
   "cell_type": "markdown",
   "metadata": {},
   "source": [
    "**Vérifier** les distributions des variables transformées."
   ]
  },
  {
   "cell_type": "code",
   "execution_count": null,
   "metadata": {},
   "outputs": [],
   "source": [
    "visatrans2 = visatrans[[\"SEXEQ\",\"AGER\",\"FAMIQ\",\"RELAT\",\"PCSPQ\",\"OPGNB\", \"MOYRV\",\"TAVEP\", \"ENDET\", \"GAGET\",\"GAGEC\", \"GAGEM\", \"KVUNB\",\"QSMOY\", \"QCRED\", \"DMVTP\",\"BOPPN\", \"FACAN\", \"LGAGT\",\"VIENB\", \"VIEMT\", \"UEMNB\",\"XLGNB\", \"XLGMT\", \"YLVNB\",\"YLVMT\", \"ZOCNB\", \"NPTAG\",\"ITAVC\", \"HAVEF\",\"JNBJD\", \"CARVP\"]]\n",
    "visatrans2.head()"
   ]
  },
  {
   "cell_type": "markdown",
   "metadata": {},
   "source": [
    "**Q** Comment interpréter le graphe ci-dessous?"
   ]
  },
  {
   "cell_type": "code",
   "execution_count": null,
   "metadata": {
    "scrolled": true
   },
   "outputs": [],
   "source": [
    "from pandas.tools.plotting import scatter_matrix\n",
    "scatter_matrix(visatrans[[\"AGER\", \"RELAT\",\"QSMOY\", \"OPGNB\", \"MOYRV\",\"TAVEP\", \"ENDET\", \"GAGET\",\"GAGEC\",\"GAGEM\", \"QCRED\", \"DMVTP\",\"BOPPN\",\"FACAN\",\"LGAGT\",\"VIENB\",\"VIEMT\",\"UEMNB\",\"XLGNB\",\"XLGMT\",\"YLVNB\",\"YLVMT\",\"ZOCNB\"]], alpha=0.2, figsize=(15, 15), diagonal='kde')\n",
    "plt.show()"
   ]
  },
  {
   "cell_type": "markdown",
   "metadata": {},
   "source": [
    "# <FONT COLOR=\"Red\">Épisode 2 ACP</font>\n",
    "## Analyse en composantes principales\n",
    "Cette phase de l'analyse permet de mieux comprendre la structure de corrélation des variables afin de d'appréhender ce que seront les grandes classes de comportement des clients."
   ]
  },
  {
   "cell_type": "markdown",
   "metadata": {},
   "source": [
    "**Q** L'ACP calculée ci-dessous est-elle réduite ? Pourquoi?"
   ]
  },
  {
   "cell_type": "code",
   "execution_count": null,
   "metadata": {},
   "outputs": [],
   "source": [
    "from sklearn.decomposition import PCA\n",
    "from sklearn.preprocessing import scale\n",
    "# définition de la commande\n",
    "pca = PCA()\n",
    "# Sélection des variables quantitatives\n",
    "dat=visatrans[[\"AGER\",\"RELAT\",\"KVUNB\", \"OPGNB\", \"MOYRV\",\"TAVEP\",\"ENDET\",\"GAGET\",\"GAGEC\",\"GAGEM\",\"QCRED\",\"DMVTP\",\"BOPPN\",\"FACAN\",\"LGAGT\",\"VIEMT\",\"XLGMT\",\"YLVMT\",\"ITAVC\",\"HAVEF\",\"JNBJD\",\"ZOCNB\"]]\n",
    "# réduction\n",
    "data = pd.DataFrame(scale(dat),columns=dat.columns)\n",
    "# composantes principales\n",
    "C = pca.fit(data).transform(data)"
   ]
  },
  {
   "cell_type": "markdown",
   "metadata": {},
   "source": [
    "### Choix de dimension"
   ]
  },
  {
   "cell_type": "code",
   "execution_count": null,
   "metadata": {},
   "outputs": [],
   "source": [
    "# Eboulis des valeurs propres\n",
    "plt.figure()\n",
    "plt.plot(pca.explained_variance_ratio_)\n",
    "plt.show()"
   ]
  },
  {
   "cell_type": "markdown",
   "metadata": {},
   "source": [
    "**Q** Que représente le graphe ci-dessous? Quelle information en tirer?"
   ]
  },
  {
   "cell_type": "code",
   "execution_count": null,
   "metadata": {},
   "outputs": [],
   "source": [
    "# Diagrammes boîte des composantes principales\n",
    "plt.figure()\n",
    "plt.boxplot(C[:,0:20])\n",
    "plt.show()"
   ]
  },
  {
   "cell_type": "markdown",
   "metadata": {},
   "source": [
    "### Représentation des individus"
   ]
  },
  {
   "cell_type": "markdown",
   "metadata": {},
   "source": [
    "**Q** Quel est le graphe ci-dessous? Quelle information en retenir?"
   ]
  },
  {
   "cell_type": "code",
   "execution_count": null,
   "metadata": {},
   "outputs": [],
   "source": [
    "plt.figure(figsize=(10,8))\n",
    "for i, j, nom in zip(C[:,0], C[:,1], visatrans['CARVP']):\n",
    "    color = \"red\" if nom == \"Coui\" else \"blue\"\n",
    "    plt.text(i, j, nom, color=color)\n",
    "plt.axis((-6,7.5,-5,6))  \n",
    "plt.show()"
   ]
  },
  {
   "cell_type": "markdown",
   "metadata": {},
   "source": [
    "### Variables et cercle des corrélations\n",
    "**Q** Que représent le graphe ci-dessous? Donner en une ligne une interprétation de l'axe 1 puis de l'axe2."
   ]
  },
  {
   "cell_type": "code",
   "execution_count": null,
   "metadata": {},
   "outputs": [],
   "source": [
    "# coordonnées des variables\n",
    "coord1=pca.components_[0]*np.sqrt(pca.explained_variance_[0])\n",
    "coord2=pca.components_[1]*np.sqrt(pca.explained_variance_[1])\n",
    "fig = plt.figure(figsize=(8,8))\n",
    "ax = fig.add_subplot(1, 1, 1)\n",
    "for i, j, nom in zip(coord1,coord2, data.columns):\n",
    "    plt.text(i, j, nom)\n",
    "    plt.arrow(0,0,i,j,color='r')\n",
    "plt.axis((-1.2,1.2,-1.2,1.2))\n",
    "# cercle\n",
    "c=plt.Circle((0,0), radius=1, color='b', fill=False)\n",
    "ax.add_patch(c)\n",
    "plt.show()"
   ]
  },
  {
   "cell_type": "markdown",
   "metadata": {},
   "source": [
    "### Classification des variables\n",
    "**Q** Les classes de variables sont-elles cohérentes avec l'interprétataion des axes?"
   ]
  },
  {
   "cell_type": "code",
   "execution_count": null,
   "metadata": {},
   "outputs": [],
   "source": [
    "# Stratégie utilisée pour aider à l'interprétation du plan principal \n",
    "# lorsque le nombre de variables est important\n",
    "from scipy.cluster.hierarchy import dendrogram, linkage\n",
    "Z = linkage(data.T, 'ward')\n",
    "plt.figure(figsize=(15, 8))\n",
    "plt.title('Hierarchical Clustering Dendrogram')\n",
    "plt.xlabel('Variable')\n",
    "plt.ylabel('Distance')\n",
    "dendrogram(Z,leaf_font_size=8.,labels=data.columns)\n",
    "plt.show()"
   ]
  },
  {
   "cell_type": "markdown",
   "metadata": {},
   "source": [
    "Pas d'épisode 3 car l'AFD n'est pas adaptée aux données.\n",
    "# <FONT COLOR=\"Red\">Épisode 4 AFCM</font>\n",
    "## Analyse multiple des correspondances \n",
    "Afin d'intégrer toutes les variables et pas seulement celles quantitatives, un recodage de ces dernières variables, permet de toutes les intégrer dans une analyse multiple des correspondances. \n",
    "\n",
    "**Remarques**\n",
    "- Le nombre de classes doit être relativement restreint pour limiter les dimensions et faciliter les interprétations, \n",
    "- il est préférable de choisir, pour des variables distribuées \"normalement\", des classes d'effectifs égaux: les bornes sont des quantiles.\n",
    "- Dans le cas des données bancaires, les variables présentant une distribution très asymétrique se résument souvent en une variable dichotomique: présence ou absence d'un produit financier donné. Dans ce dernier cas, il est inutile de conserver à la fois une variable \"nombre\" et une variable \"montant\" du même produit financier.\n",
    "- Enfin, pour des raisons techniques de lisibilité des graphiques en SAS, les codes des modalités associés à une même variable commencent par la même lettre. Les programmes ci-dessous devraient être adaptés afin d'utiliser cette convention pour améliorer la lisibilité des graphiques.\n",
    "\n",
    "**Q** Commenter succinctement chacune des étapes nécessaires à la transformation des variables pour réaliser une analyse multiple des correspondances."
   ]
  },
  {
   "cell_type": "code",
   "execution_count": 8,
   "metadata": {},
   "outputs": [
    {
     "ename": "NameError",
     "evalue": "name 'visatrans2' is not defined",
     "output_type": "error",
     "traceback": [
      "\u001b[1;31m---------------------------------------------------------------------------\u001b[0m",
      "\u001b[1;31mNameError\u001b[0m                                 Traceback (most recent call last)",
      "\u001b[1;32m<ipython-input-8-5a28038b29cf>\u001b[0m in \u001b[0;36m<module>\u001b[1;34m\u001b[0m\n\u001b[0;32m      1\u001b[0m \u001b[1;31m#Recodage des modalités\u001b[0m\u001b[1;33m\u001b[0m\u001b[1;33m\u001b[0m\u001b[1;33m\u001b[0m\u001b[0m\n\u001b[0;32m      2\u001b[0m \u001b[1;32mimport\u001b[0m \u001b[0mrandom\u001b[0m\u001b[1;33m\u001b[0m\u001b[1;33m\u001b[0m\u001b[0m\n\u001b[1;32m----> 3\u001b[1;33m \u001b[0mvisapremv\u001b[0m\u001b[1;33m=\u001b[0m\u001b[0mvisatrans2\u001b[0m\u001b[1;33m\u001b[0m\u001b[1;33m\u001b[0m\u001b[0m\n\u001b[0m",
      "\u001b[1;31mNameError\u001b[0m: name 'visatrans2' is not defined"
     ]
    }
   ],
   "source": [
    "#Recodage des modalités \n",
    "import random\n",
    "visapremv=visatrans2"
   ]
  },
  {
   "cell_type": "code",
   "execution_count": null,
   "metadata": {},
   "outputs": [],
   "source": [
    "visapremv[\"FAMIQ\"].value_counts()"
   ]
  },
  {
   "cell_type": "code",
   "execution_count": null,
   "metadata": {},
   "outputs": [],
   "source": [
    "# Recodages aléatoire des Finc\n",
    "def rep_fami(x):\n",
    "    if random.random()<0.45:\n",
    "        x=\"Fseu\"\n",
    "    else:\n",
    "        x=\"Fcou\"\n",
    "    return x\n",
    "visapremv[\"FAMIQ\"]=[x if x!=\"Finc\" else rep_fami(x) for x in visapremv[\"FAMIQ\"]]"
   ]
  },
  {
   "cell_type": "code",
   "execution_count": null,
   "metadata": {},
   "outputs": [],
   "source": [
    "visapremv[\"FAMIQ\"].value_counts()"
   ]
  },
  {
   "cell_type": "code",
   "execution_count": null,
   "metadata": {},
   "outputs": [],
   "source": [
    "# attention au type\n",
    "visapremv[\"FAMIQ\"]=visapremv[\"FAMIQ\"].astype('category')"
   ]
  },
  {
   "cell_type": "code",
   "execution_count": null,
   "metadata": {},
   "outputs": [],
   "source": [
    "kvunbq = [\"K0\" if x in [0,1] else \"K1\" for x in visapremv[\"KVUNB\"] ]\n",
    "visapremv[\"KVUNBQ\"]=pd.Categorical(kvunbq,ordered=False)\n",
    "\n",
    "vienbq = [\"V0\" if x==0 else \"V1\" for x in visapremv[\"VIENB\"]]\n",
    "visapremv[\"VIENBQ\"]=pd.Categorical(vienbq,ordered=False)\n",
    "\n",
    "uemnbq = [\"U0\" if x==0 else \"U1\" if x==1 else \"U2\" for x in visapremv[\"UEMNB\"] ]\n",
    "visapremv[\"UEMNBQ\"]=pd.Categorical(uemnbq,ordered=False)\n",
    "\n",
    "xlgnbq = [\"X0\" if x==0 else \"X1\" if x==1 else \"X2\" for x in visapremv[\"XLGNB\"] ]\n",
    "visapremv[\"XLGNBQ\"]=pd.Categorical(xlgnbq,ordered=False)\n",
    "\n",
    "ylvnbq = [\"Y0\" if x==0 else \"Y1\" if x==1 else \"Y2\" for x in visapremv[\"YLVNB\"] ]\n",
    "visapremv[\"YLVNBQ\"]=pd.Categorical(ylvnbq,ordered=False)\n",
    "\n",
    "zocnbq = [\"Z0\" if x ==0 else \"Z1\" for x in visapremv[\"ZOCNB\"] ]\n",
    "visapremv[\"ZOCNBQ\"]=pd.Categorical(zocnbq,ordered=False)\n",
    "\n",
    "nptagq = [\"N0\" if x ==0 else \"N1\" for x in visapremv[\"NPTAG\"] ]\n",
    "visapremv[\"NPTAGQ\"]=pd.Categorical(nptagq,ordered=False)\n",
    "\n",
    "jnbjdq = [\"J0\" if x==0 else \"J1\" for x in visapremv[\"JNBJD\"] ]\n",
    "visapremv[\"JNBJDQ\"]=pd.Categorical(jnbjdq,ordered=False)"
   ]
  },
  {
   "cell_type": "code",
   "execution_count": null,
   "metadata": {},
   "outputs": [],
   "source": [
    "def rec(df,col_name,a,b):\n",
    "    colq = [b if x>0 else a for x in df[col_name]]\n",
    "    return colq\n",
    "\n",
    "visapremv[\"ENDETQ\"]=pd.Categorical(rec(visapremv,\"ENDET\",\"E0\",\"E1\"),ordered=False)\n",
    "visapremv[\"GAGETQ\"]=pd.Categorical(rec(visapremv,\"GAGET\",\"G0\",\"G1\"),ordered=False)\n",
    "visapremv[\"FACANQ\"]=pd.Categorical(rec(visapremv,\"FACAN\",\"F0\",\"F1\"),ordered=False)\n",
    "visapremv[\"LGAGTQ\"]=pd.Categorical(rec(visapremv,\"LGAGT\",\"L0\",\"L1\"),ordered=False)\n",
    "visapremv[\"HAVEFQ\"]=pd.Categorical(rec(visapremv,\"HAVEF\",\"H0\",\"H1\"),ordered=False)"
   ]
  },
  {
   "cell_type": "code",
   "execution_count": null,
   "metadata": {},
   "outputs": [],
   "source": [
    "visapremw=visapremv[[\"AGER\",\"RELAT\",\"QSMOY\",\"OPGNB\",\"MOYRV\",\"TAVEP\",\"DMVTP\",\"BOPPN\",\"ITAVC\"]]"
   ]
  },
  {
   "cell_type": "code",
   "execution_count": null,
   "metadata": {},
   "outputs": [],
   "source": [
    "visapremw[\"AGEQ\"]=pd.qcut(visapremw.AGER,3,labels=[\"A0\",\"A1\",\"A2\"])\n",
    "visapremw[\"RELATQ\"]=pd.qcut(visapremw.RELAT,3,labels=[\"R0\",\"R1\",\"R2\"])\n",
    "visapremw[\"QSMOYQ\"]=pd.qcut(visapremw.QSMOY,3,labels=[\"Q0\",\"Q1\",\"Q2\"])\n",
    "visapremw[\"MOYRVQ\"]=pd.qcut(visapremw.MOYRV,3,labels=[\"M0\",\"M1\",\"M2\"])\n",
    "visapremw[\"TAVEPQ\"]=pd.qcut(visapremw.TAVEP,3,labels=[\"T0\",\"T1\",\"T2\"])\n",
    "visapremw[\"DMVTPQ\"]=pd.qcut(visapremw.DMVTP,3,labels=[\"D0\",\"D1\",\"D2\"])\n",
    "visapremw[\"BOPPNQ\"]=pd.qcut(visapremw.BOPPN,3,labels=[\"B0\",\"B1\",\"B2\"])\n",
    "visapremw[\"ITAVCQ\"]=pd.qcut(visapremw.ITAVC,3,labels=[\"I0\",\"I1\",\"I2\"])\n",
    "visapremw[\"OPGNBQ\"]=pd.qcut(visapremw.OPGNB,2,labels=[\"O0\",\"O1\"])\n",
    "\n",
    "# suppression des variables devenues inutiles\n",
    "listeVarSup=[\"AGER\",\"RELAT\",\"QSMOY\",\"MOYRV\",\"TAVEP\",\"DMVTP\",\"BOPPN\",\"ITAVC\",\"OPGNB\"]\n",
    "visapremw.drop(listeVarSup,inplace=True,axis=1)"
   ]
  },
  {
   "cell_type": "code",
   "execution_count": null,
   "metadata": {},
   "outputs": [],
   "source": [
    "fram=[visapremv,visapremw]\n",
    "visapremvw=pd.concat(fram,1)"
   ]
  },
  {
   "cell_type": "code",
   "execution_count": null,
   "metadata": {
    "scrolled": true
   },
   "outputs": [],
   "source": [
    "visapremvw.head()"
   ]
  },
  {
   "cell_type": "markdown",
   "metadata": {},
   "source": [
    "Il est classique de rechercher une première AFCM n'utilisant que les variables résumant les caractéristiques sociales (signalétique) des clients en variables principales. afin de détecter d'éventuelles incohérences. Les variables bancaires sont projetées en tant que variables supplémentaires. "
   ]
  },
  {
   "cell_type": "code",
   "execution_count": null,
   "metadata": {},
   "outputs": [],
   "source": [
    "import mca\n",
    "# variables qualitatives\n",
    "visapremQ=visapremvw.select_dtypes(include=[pd.Categorical,\"object\"])\n",
    "visapremQ.columns"
   ]
  },
  {
   "cell_type": "code",
   "execution_count": null,
   "metadata": {},
   "outputs": [],
   "source": [
    "visapremQ[\"RELATQ\"].value_counts()"
   ]
  },
  {
   "cell_type": "code",
   "execution_count": null,
   "metadata": {},
   "outputs": [],
   "source": [
    "visapremQ[[\"FAMIQ\",\"SEXEQ\",\"PCSPQ\",\"AGEQ\",\"RELATQ\"]].describe()"
   ]
  },
  {
   "cell_type": "code",
   "execution_count": null,
   "metadata": {},
   "outputs": [],
   "source": [
    "# La commande ci-dessous ne marche pas, il faut créer soi même le tableau disjonctif\n",
    "# mct=mca.MCA(visapremQ, cols=[\"FAMIQ\",\"SEXEQ\",\"PCSPQ\",\"AGEQ\",\"RELATQ\"],benzecri=False)"
   ]
  },
  {
   "cell_type": "code",
   "execution_count": null,
   "metadata": {},
   "outputs": [],
   "source": [
    "# Tableau disjonctif complet\n",
    "D=pd.DataFrame(pd.get_dummies(visapremQ[[\"FAMIQ\",\"SEXEQ\",\"PCSPQ\",\"AGEQ\",\"RELATQ\"]]))"
   ]
  },
  {
   "cell_type": "code",
   "execution_count": null,
   "metadata": {},
   "outputs": [],
   "source": [
    "# AFC\n",
    "mct=mca.MCA(D,benzecri=False)"
   ]
  },
  {
   "cell_type": "code",
   "execution_count": null,
   "metadata": {},
   "outputs": [],
   "source": [
    "# Graphique rudimenttaire\n",
    "col=[1,1,2,2,3,3,3,3,3,4,4,4,4,4,4]\n",
    "plt.scatter(mct.fs_c()[:, 0],mct.fs_c()[:, 1],c=col)\n",
    "for i, j, nom in zip(mct.fs_c()[:, 0],mct.fs_c()[:, 1], D.columns):\n",
    "       plt.text(i, j, nom)\n",
    "plt.show()"
   ]
  },
  {
   "cell_type": "markdown",
   "metadata": {},
   "source": [
    "**Q** Commenter le graphique ci-dessous. Présente-t-il des incohérences particulières ?"
   ]
  },
  {
   "cell_type": "markdown",
   "metadata": {},
   "source": [
    "L'objectif de cette exploration est de construire la représentation la plus explicite pour bien appréhender les structures des données. Les fonctions de python sont bien moins élaborées que celles des librairies de R. Il manque dans le graphe ci-dessous une utilisation habile des couleurs pour distinguer les modalités d'une même variable (même première lettre).\n",
    "\n",
    "**Q** Remarquant que la plupart des modalités \"0\" se trouvent à gauche du graphique suivant, quelle interprétation donner du premier axe? \n",
    "\n",
    "*Rappel*: le premier caractère de chaque libellé de modalité identifie la variable.\n",
    "\n",
    "**Exo ** améliorer la lisibilité du graphique ci-dessous\n",
    "\n",
    "**Q** Identifier quelques variables et modalités caractéristiques et donnez une interprétation du 2ème axe.\n",
    "\n",
    "**Exo:** Représenter les plans *(1,3)* et *(2,3)*. Une interprétation de l'axe 3 est-elle possible?\n",
    "\n",
    "**Q** Qu’est-ce qui caractérise principalement les porteurs de la carte visa premier (variable CARVP) ?"
   ]
  },
  {
   "cell_type": "code",
   "execution_count": null,
   "metadata": {},
   "outputs": [],
   "source": [
    "# Tableau disjonctif complet\n",
    "D=pd.DataFrame(pd.get_dummies(visapremQ))\n",
    "# AFCM de toutes les variables qualitatives\n",
    "mca_comp=mca.MCA(D,benzecri=False)"
   ]
  },
  {
   "cell_type": "code",
   "execution_count": null,
   "metadata": {},
   "outputs": [],
   "source": [
    "fig = plt.figure(1, figsize=(15, 13))\n",
    "plt.scatter(mca_comp.fs_c()[:, 0],mca_comp.fs_c()[:, 1])\n",
    "for i, j, nom in zip(mca_comp.fs_c()[:, 0],mca_comp.fs_c()[:, 1], D.columns):\n",
    "       plt.text(i, j, nom)\n",
    "plt.show()"
   ]
  },
  {
   "cell_type": "markdown",
   "metadata": {},
   "source": [
    "**Q** Le graphe ci-dessous représente également les clients dans le plan (1,2). L’AFC de quelle matrice a été calculée pour aboutir à ce résultat ? "
   ]
  },
  {
   "cell_type": "code",
   "execution_count": null,
   "metadata": {
    "scrolled": false
   },
   "outputs": [],
   "source": [
    "fig = plt.figure(1, figsize=(15, 13))\n",
    "# graphe des individus et des modalités\n",
    "for i, j, nom in zip(mca_comp.fs_c()[:, 0],-mca_comp.fs_c()[:, 1],D.columns):\n",
    "    #print(nom,i,j)\n",
    "    plt.text(i, j, nom,color='g')\n",
    "plt.scatter(mca_comp.fs_c()[:, 0],-mca_comp.fs_c()[:, 1],marker='1',c='g')\n",
    "plt.scatter(mca_comp.fs_r()[:, 0],-mca_comp.fs_r()[:, 1],marker='+',c='b')\n",
    "plt.show()"
   ]
  },
  {
   "cell_type": "markdown",
   "metadata": {},
   "source": [
    "# <FONT COLOR=\"Red\">Épisode 5 Classification non supervisée</font>\n",
    "## Segmentation ou *clustering* des clients\n",
    "L'objectif principal, lors de cette première étude des données, est de fournir une typologie ou segmentation des clients. C'est-à-dire de définir des classes les plus homogènes au regard des comportements bancaires. Les algorithmes de classification étudiés sont adaptés à des variables {\\em quantitatives} ou des matrices de distances. L'intégration d'informations qualitatives peut se faire par un recodage préalable (scoring) à l'aide d'une analyse des correspondances multiples. Ce scénatio se propose donc de comparer deux approches: classification à partir des seules variables quantitatives ou classification à partir des scores issues d'une afcm. D'autres approches sont envisageables sur des variables qualitatives qui nécessitent la définition d'une distance ou dissimilarité entre individus adaptée aux variables qualitatives. Mais, nécessitant la construction de la matrice *n x n* des distances des individus deux à deux, elles ne sont pas adaptées aux très grands tableaux.\n",
    "\n",
    "### Sur les seules variables quantitatives\n",
    "A titre d'exemple, voici comment obtenir une typologie à partir des seules variables quantitatives. La stratégie est adaptée à des gros fichiers. \n",
    "\n",
    "**Q** Quel problème peut poser la CAH (classification ascendante hiérérchique)) pour de très gros fichiers?\n",
    "\n",
    "**Q** Résumer la stratégie développée ci-dessous pour pouvoir appliquer la CAH à un gros fichier. Quel est l'avantage, que cette stratégie utilise, de la CAH sur les algortihmes par réallocation dynamique de type $k-means$?"
   ]
  },
  {
   "cell_type": "code",
   "execution_count": null,
   "metadata": {},
   "outputs": [],
   "source": [
    "# Sélection des variables quantitatives\n",
    "visaprems=visapremvw.select_dtypes(include=[\"int32\",\"float\",\"int64\"])\n",
    "# Centrage et réduction\n",
    "visaprems = scale(visaprems)"
   ]
  },
  {
   "cell_type": "code",
   "execution_count": null,
   "metadata": {},
   "outputs": [],
   "source": [
    "# Classification d'un grand tableau par k-means puis CAH\n",
    "## k-means avec 100 classes\n",
    "from sklearn.cluster import *\n",
    "T=k_means(visaprems,100)\n",
    "poids=np.zeros((100,))\n",
    "for i in T[1]:\n",
    "    poids[i]=1./np.size(T[1])\n",
    "np.sum(poids)"
   ]
  },
  {
   "cell_type": "code",
   "execution_count": null,
   "metadata": {},
   "outputs": [],
   "source": [
    "## CAH des barycentres des classes\n",
    "## Calcul de la matrices des distances pondérées\n",
    "def weightedL2(a,b,wa,wb):\n",
    "    q = wa*a-wb*b\n",
    "    return np.sqrt((q*q).sum())\n",
    "dist=np.zeros((100,100))\n",
    "for i in range(dist.shape[0]):\n",
    "    for j in range(dist.shape[1]):\n",
    "        dist[i,j]=weightedL2(T[0][i],T[0][j],poids[i],poids[j])\n",
    "from scipy.cluster.hierarchy import *\n",
    "Q= linkage(dist, 'ward')        \n",
    "        "
   ]
  },
  {
   "cell_type": "code",
   "execution_count": null,
   "metadata": {},
   "outputs": [],
   "source": [
    "## Dendrogramme des barycentres des classes\n",
    "plt.figure(figsize=(20, 10))\n",
    "plt.title('Hierarchical Clustering Dendrogram')\n",
    "plt.xlabel('sample index')\n",
    "plt.ylabel('distance')\n",
    "dendrogram(Q,leaf_font_size=8.)\n",
    "plt.show()"
   ]
  },
  {
   "cell_type": "markdown",
   "metadata": {},
   "source": [
    "**Q** Quel est le graphique ci-dessus? Quel est le graphique ci-dessous? Quelle conclusion en tirer?"
   ]
  },
  {
   "cell_type": "code",
   "execution_count": null,
   "metadata": {},
   "outputs": [],
   "source": [
    "plt.figure(figsize=(20, 10))\n",
    "plt.plot(maxdists(Q)[::-1][0:10])\n",
    "plt.show()"
   ]
  },
  {
   "cell_type": "code",
   "execution_count": null,
   "metadata": {},
   "outputs": [],
   "source": [
    "pd.DataFrame(Z[1],columns=[\"Classe\"])"
   ]
  },
  {
   "cell_type": "code",
   "execution_count": null,
   "metadata": {},
   "outputs": [],
   "source": [
    "## k-means avec le nombre choisi de classes \n",
    "Z=k_means(visaprems,5)\n",
    "pca=PCA()\n",
    "C = pca.fit(visaprems).transform(visaprems)"
   ]
  },
  {
   "cell_type": "code",
   "execution_count": null,
   "metadata": {},
   "outputs": [],
   "source": [
    "## représentation des classes dans l'ACP\n",
    "plt.figure(figsize=(20, 10))\n",
    "plt.scatter(C[:,0], C[:,1],marker='1',c=Z[1],cmap=plt.cm.Set1)\n",
    "plt.show()"
   ]
  },
  {
   "cell_type": "markdown",
   "metadata": {},
   "source": [
    "### *Clustering* sur composantes de l'AFCM\n",
    "\n",
    "**Q** Préciser la démarche permettant d'obtenir une typologie des clients décrits par des variables à la fois quantitatives et qualitatives."
   ]
  },
  {
   "cell_type": "code",
   "execution_count": null,
   "metadata": {},
   "outputs": [],
   "source": [
    "mca_comp=mca.MCA(D,benzecri=False)"
   ]
  },
  {
   "cell_type": "code",
   "execution_count": null,
   "metadata": {},
   "outputs": [],
   "source": [
    "mca_comp.fs_r().shape"
   ]
  },
  {
   "cell_type": "markdown",
   "metadata": {},
   "source": [
    "**Q** Quelles sont les options disponibles de la méthode mise en oeuvre ci-dessous?"
   ]
  },
  {
   "cell_type": "code",
   "execution_count": null,
   "metadata": {},
   "outputs": [],
   "source": [
    "# Avec n grand, il faudrait suivre la même stratégie que pour \n",
    "# l'acp: k-means puis CAH sur barycentres puis re-k-means. \n",
    "# On fait directement la CAH \n",
    "# data = (dat - dat.mean()) / dat.std()\n",
    "ZZ = linkage(mca_comp.fs_r(), 'ward')\n",
    "plt.figure(figsize=(15, 8))\n",
    "plt.title('Hierarchical Clustering Dendrogram')\n",
    "plt.xlabel('sample index')\n",
    "plt.ylabel('distance')\n",
    "dendrogram(ZZ,leaf_font_size=8.)\n",
    "plt.show()"
   ]
  },
  {
   "cell_type": "markdown",
   "metadata": {},
   "source": [
    "**Q** Justifier le choix du nombre de classes."
   ]
  },
  {
   "cell_type": "code",
   "execution_count": null,
   "metadata": {},
   "outputs": [],
   "source": [
    "plt.figure(figsize=(20, 10))\n",
    "plt.plot(maxdists(ZZ)[::-1][0:10])\n",
    "plt.show()"
   ]
  },
  {
   "cell_type": "code",
   "execution_count": null,
   "metadata": {},
   "outputs": [],
   "source": [
    "# k-means des composantes de l'AFCM avec 4 classes\n",
    "KL=k_means(mca_comp.fs_r(),4)\n",
    "fig = plt.figure(1, figsize=(15, 13))\n",
    "# Représentation des classes dans les composantes de l'AFCM\n",
    "for i, j, nom in zip(mca_comp.fs_c()[:, 0],-mca_comp.fs_c()[:, 1],D.columns):\n",
    "    plt.text(i, j, nom,color='g')\n",
    "plt.scatter(mca_comp.fs_c()[:, 0],-mca_comp.fs_c()[:, 1],marker='1',c='g')\n",
    "plt.scatter(mca_comp.fs_r()[:, 0],-mca_comp.fs_r()[:, 1],marker='+',c=KL[1])\n",
    "plt.show()"
   ]
  },
  {
   "cell_type": "code",
   "execution_count": null,
   "metadata": {},
   "outputs": [],
   "source": [
    "# Ajout de la variable Classe dans la table\n",
    "visapremvw[\"Klasse\"]=KL[1]\n",
    "visapremvw[\"Klasse\"]=pd.Categorical(visapremvw[\"Klasse\"],ordered=False)\n",
    "visapremvw[\"Klasse\"]=visapremvw[\"Klasse\"].cat.rename_categories(['KL2','KL1','KL0','KL3'])\n",
    "visapremvw[\"Klasse\"].value_counts()"
   ]
  },
  {
   "cell_type": "markdown",
   "metadata": {},
   "source": [
    "**Q** Les classes obtenues sont représentées dans une AFCM comme les modalités KL0, KL1, KL2, KL3 d’une variable qualitative. A partir du graphe ci-dessous, résumer quelques caractéristiques des classes de client kL1, KL2, KL3.\n",
    "\n",
    "**Exo** Représenter le plan (1,3). Interprétation de KL0."
   ]
  },
  {
   "cell_type": "code",
   "execution_count": null,
   "metadata": {},
   "outputs": [],
   "source": [
    "# AFCM avec la variable Classe\n",
    "D=pd.get_dummies(visapremvw.select_dtypes(include=[pd.Categorical,\"object\"]))\n",
    "mca_class=mca.MCA(D,benzecri=False)\n",
    "fig = plt.figure(1, figsize=(15, 13))\n",
    "# Graphe des modalités\n",
    "for i, j, nom in zip(mca_class.fs_c()[:, 0],-mca_class.fs_c()[:, 1],D.columns):\n",
    "    if nom=='Klasse_KL0' or nom=='Klasse_KL1' or nom=='Klasse_KL2' or nom=='Klasse_KL3':\n",
    "        plt.text(i, j, nom,color='r') \n",
    "    else:    \n",
    "        plt.text(i, j, nom,color='g')\n",
    "plt.scatter(mca_class.fs_c()[:, 0],-mca_class.fs_c()[:, 1],marker='1',c='g')\n",
    "plt.show()"
   ]
  },
  {
   "cell_type": "markdown",
   "metadata": {},
   "source": [
    "**Exo** Améliorer la lisibilité de ces graphiques!"
   ]
  }
 ],
 "metadata": {
  "kernelspec": {
   "display_name": "Python 3",
   "language": "python",
   "name": "python3"
  },
  "language_info": {
   "codemirror_mode": {
    "name": "ipython",
    "version": 3
   },
   "file_extension": ".py",
   "mimetype": "text/x-python",
   "name": "python",
   "nbconvert_exporter": "python",
   "pygments_lexer": "ipython3",
   "version": "3.7.1"
  }
 },
 "nbformat": 4,
 "nbformat_minor": 1
}
