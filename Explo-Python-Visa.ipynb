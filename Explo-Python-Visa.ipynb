{
 "cells": [
  {
   "cell_type": "markdown",
   "metadata": {},
   "source": [
    "<center>\n",
    "<a href=\"http://www.insa-toulouse.fr/\" ><img src=\"http://www.math.univ-toulouse.fr/~besse/Wikistat/Images/logo-insa.jpg\" style=\"float:left; max-width: 120px; display: inline\" alt=\"INSA\"/></a> \n",
    "\n",
    "<a href=\"http://wikistat.fr/\" ><img src=\"http://www.math.univ-toulouse.fr/~besse/Wikistat/Images/wikistat.jpg\" style=\"max-width: 250px; display: inline\"  alt=\"Wikistat\"/></a>\n",
    "\n",
    "<a href=\"http://www.math.univ-toulouse.fr/\" ><img src=\"http://www.math.univ-toulouse.fr/~besse/Wikistat/Images/logo_imt.jpg\" style=\"float:right; max-width: 250px; display: inline\" alt=\"IMT\"/> </a>\n",
    "</center>"
   ]
  },
  {
   "cell_type": "markdown",
   "metadata": {},
   "source": [
    "# [Scénarios d'Exploration Statistique](https://github.com/wikistat/Exploration)"
   ]
  },
  {
   "cell_type": "markdown",
   "metadata": {},
   "source": [
    "# GRC: Segmentation d'une clientèle bancaire en <a href=\"https://www.python.org/\"><img src=\"https://upload.wikimedia.org/wikipedia/commons/thumb/f/f8/Python_logo_and_wordmark.svg/390px-Python_logo_and_wordmark.svg.png\" style=\"max-width: 120px; display: inline\" alt=\"Python\"/></a>"
   ]
  },
  {
   "cell_type": "markdown",
   "metadata": {},
   "source": [
    "**Résumé**\n",
    "Ce scénario décrit le traitement classique, la fouille, de données pour la gestion de la relation client (GRC); exploration de données bancaires par des méthodes uni, bi et [multidimensionnelles](http://wikistat.fr/pdf/st-m-explo-intro.pdf): [ACP](http://wikistat.fr/pdf/st-m-explo-acp.pdf), [AFCM](http://wikistat.fr/pdf/st-m-explo-afcm.pdf) puis segmentation de clientèle par classification non-supervisée [k-means, CAH](http://wikistat.fr/pdf/st-m-explo-classif.pdf) et représentation, interprétation des classes.\n",
    "\n",
    "## Introduction\n",
    "### Objectif\n",
    "Ce scénatio propose  de décrire un jeu de données bancaires  en utilisant les principales méthodes de statistique exploratoire multidimensionnelle: analyse en composantes principales, analyse des correspondances simple et multiple, classification non supervisée. L'objectif principal, classqiue en marketing, est de produire une *segmentation* de clientèle, c'est-à-dire une répartition en classes homogènes des clients en fonction de leur comportement bancaire. C'est aussi la mise en oeuvre d'une démarche classique permettant d'affiner sa compréhension des données dans l'idée de construire un [score d'appétence](http://www.math.univ-toulouse.fr/~besse/Wikistat/pdf/st-scenar-app-visa.pdf) pour la carte visa premier. Ce deuxième objectif est intégré à la saison 3 ([Apprentissage Statistique](https://github.com/wikistat/Apprentissage)). Il s'agit du score d'appétence de la carte Visa Premier mais ce pourrait être un score d'attrition ({\\it churn}) d'un opérateur téléphonique ou encore un score de défaillance d'un emprunteur ou de faillite d'une entreprise; les outils de modélisation sont les mêmes et sont très largement utilisés dans tout le secteur tertiaire pour l'aide à la décision.\n",
    "\n",
    "\n",
    "Une [autre version](http://www.math.univ-toulouse.fr/~besse/Wikistat/pdf/st-scenar-explo-spam.pdf) du même scénario  propose d'utiliser le logiciel SAS alors que ce calepin propose une solution en Python utilisant la librairie *Scikit-learn*.\n",
    "\n",
    "### Présentation des données\n",
    "#### Les variables\n",
    "La liste des variables est issue d'une base de données retraçant l'historique mensuel bancaire et les caractéristiques de tous les clients. Un sondage a été réalisé afin d'alléger les traitements ainsi qu'une première sélection de variables. Les variables contenues dans le fichier initial sont décrites dans le tableau ci-dessous. Elles sont observées sur 1425 clients.\n",
    "\n",
    "*Tableau: Liste des variables et de leur libellé* Attention, ils sont finalement écrits en majuscules dans les programmes.\n",
    "\n",
    "**Identifiant** | **Libellé**\n",
    "           --|--\n",
    "`matric` | Matricule (identifiant client)\n",
    "`depts` | Département de résidence\n",
    "`pvs` | Point de vente\n",
    "`sexeq` | Sexe (qualitatif) \n",
    "`ager` | Age en années\n",
    "`famiq` | Situation familiale: `Fmar Fcel Fdiv Fuli Fsep Fveu`\n",
    "`relat` | Ancienneté de relation en mois\n",
    "`pcspq` | Catégorie socio-professionnelle (code num)\n",
    "`quals` | Code \"qualité\" client évalué par la banque\n",
    "`GxxGxxS` | plusieurs variables caractérisant les interdits bancaires\n",
    "`impnbs` | Nombre d'impayés en cours\n",
    "`rejets` | Montant total des rejets en francs\n",
    "`opgnb` | Nombre d'opérations par guichet dans le mois\n",
    "`moyrv` | Moyenne des mouvements nets créditeurs des 3 mois en Kf\n",
    "`tavep` | Total des avoirs épargne monétaire en francs\n",
    "`endet` | Taux d'endettement\n",
    "`gaget` | Total des engagements en francs\n",
    "`gagec` | Total des engagements court terme en francs\n",
    "`gagem` | Total des engagements moyen terme en francs\n",
    "`kvunb` | Nombre de comptes à vue\n",
    "`qsmoy` | Moyenne des soldes moyens sur 3 mois\n",
    "`qcred` | Moyenne des mouvements créditeurs en Kf\n",
    "`dmvtp` | Age du dernier mouvement (en jours)\\hline\n",
    "`boppn` | Nombre d'opérations à M-1\n",
    "`facan` | Montant facturé dans l'année en francs\n",
    "`lgagt` | Engagement long terme\n",
    "`vienb` | Nombre de produits contrats vie\n",
    "`viemt` | Montant des produits contrats vie en francs\n",
    "`uemnb` | Nombre de produits épargne monétaire\n",
    "`uemmts` | Montant des produits d'épargne monétaire en francs\n",
    "`xlgnb` | Nombre de produits d'épargne logement\n",
    "`xlgmt` | Montant des produits d'épargne logement en francs\n",
    "`ylvnb` | Nombre de comptes sur livret\n",
    "`ylvmt` | Montant des comptes sur livret en francs\n",
    "`nbelts` | Nombre de produits d'épargne long terme\n",
    "`mtelts` | Montant des produits d'épargne long terme en francs\n",
    "`nbcats` | Nombre de produits épargne à terme\n",
    "`mtcats` | Montant des produits épargne à terme\n",
    "`nbbecs` | Nombre de produits bons et certificats\n",
    "`mtbecs` | Montant des produits bons et certificats en francs\n",
    "`rocnb` | Nombre de paiements par carte bancaire à M-1\n",
    "`ntcas` | Nombre total de cartes\n",
    "`nptag` | Nombre de cartes point argent\n",
    "`segv2s` | Segmentation version 2\n",
    "`itavc` | Total des avoirs sur tous les comptes\n",
    "`havef` | Total des avoirs épargne financière en francs\n",
    "`jnbjd1s` | Nombre de jours à débit à M\n",
    "`jnbjd2s` | Nombre de jours à débit à M-1\n",
    "`jnbjd3s` | Nombre de jours à débit à M-2\n",
    "**`carvp`** | **Possession de la carte VISA Premier}**\n",
    "\n",
    "\n",
    "**Réponde aux questions en s'aidant des résultats des exécutions**"
   ]
  },
  {
   "cell_type": "markdown",
   "metadata": {},
   "source": [
    "# <FONT COLOR=\"Red\">Épisode 1 <i>Data Munging </i></font> \n",
    "## Lecture et prétraitement  des données\n",
    "Les données sont disponibles dans le répertoire de ce calepin et chargées en même temps.\n",
    "\n",
    "Même si les données sont déjà extraites par échantillonnage d'une très grande base, elles nécessitent un travail prémiminaire (*data munging*) pour détecter, corriger les erreurs et incohérences, éliminer des redondances, traiter les données manquantes, transformer certaines variables.  Ce travail préliminaire, souvent long et fastidieux, nécessite d'y consacer beaucoup de temps et de rigueur afin de s'assurer de la qualité finale des résultats. \n",
    "\n",
    "Il fait appel à des outils classiques de statistique descriptive. \n",
    "\n",
    "Les données sont anonymisées et datent du siècle dernier, elles n'ont plus d'intérêt \"commercial\". De façon générale, plutôt que de conserver tous les fichiers de données intermédiaires à une étude, ce qui peut nécessiter beaucoup d'espace disque, il est important, voire crucial, d'archiver *tous* les programmes intermédiaires de saisie, sélection, transformation des données. En effet, en cas de problème ou même simplement d'un mauvais choix méthodologique, il faut pouvoir rapidement repartir d'une étape précédente. \n",
    "\n",
    "La production d'un calepin aide à cette mémoire lors de l'analyse préliminaire mais ne constitue pas un code opérationnel.\n",
    "\n",
    "### Lecture des données"
   ]
  },
  {
   "cell_type": "code",
   "execution_count": 1,
   "metadata": {},
   "outputs": [],
   "source": [
    "%matplotlib inline\n",
    "import pandas as pd\n",
    "import numpy as np\n",
    "import matplotlib.pyplot as plt\n",
    "pd.options.mode.chained_assignment = None  # default='warn'"
   ]
  },
  {
   "cell_type": "code",
   "execution_count": 3,
   "metadata": {},
   "outputs": [
    {
     "data": {
      "text/html": [
       "<div>\n",
       "<style scoped>\n",
       "    .dataframe tbody tr th:only-of-type {\n",
       "        vertical-align: middle;\n",
       "    }\n",
       "\n",
       "    .dataframe tbody tr th {\n",
       "        vertical-align: top;\n",
       "    }\n",
       "\n",
       "    .dataframe thead th {\n",
       "        text-align: right;\n",
       "    }\n",
       "</style>\n",
       "<table border=\"1\" class=\"dataframe\">\n",
       "  <thead>\n",
       "    <tr style=\"text-align: right;\">\n",
       "      <th></th>\n",
       "      <th>DEPTS</th>\n",
       "      <th>PVS</th>\n",
       "      <th>SEXEQ</th>\n",
       "      <th>AGER</th>\n",
       "      <th>FAMIQ</th>\n",
       "      <th>RELAT</th>\n",
       "      <th>PCSPQ</th>\n",
       "      <th>QUALS</th>\n",
       "      <th>G03G04S</th>\n",
       "      <th>G25G26S</th>\n",
       "      <th>...</th>\n",
       "      <th>ZOCNB</th>\n",
       "      <th>NTCAS</th>\n",
       "      <th>NPTAG</th>\n",
       "      <th>SEGV2S</th>\n",
       "      <th>ITAVC</th>\n",
       "      <th>HAVEF</th>\n",
       "      <th>JNBJD1S</th>\n",
       "      <th>JNBJD2S</th>\n",
       "      <th>JNBJD3S</th>\n",
       "      <th>CARVP</th>\n",
       "    </tr>\n",
       "    <tr>\n",
       "      <th>MATRIC</th>\n",
       "      <th></th>\n",
       "      <th></th>\n",
       "      <th></th>\n",
       "      <th></th>\n",
       "      <th></th>\n",
       "      <th></th>\n",
       "      <th></th>\n",
       "      <th></th>\n",
       "      <th></th>\n",
       "      <th></th>\n",
       "      <th></th>\n",
       "      <th></th>\n",
       "      <th></th>\n",
       "      <th></th>\n",
       "      <th></th>\n",
       "      <th></th>\n",
       "      <th></th>\n",
       "      <th></th>\n",
       "      <th></th>\n",
       "      <th></th>\n",
       "      <th></th>\n",
       "    </tr>\n",
       "  </thead>\n",
       "  <tbody>\n",
       "    <tr>\n",
       "      <th>131842</th>\n",
       "      <td>31</td>\n",
       "      <td>03</td>\n",
       "      <td>1</td>\n",
       "      <td>67</td>\n",
       "      <td>M</td>\n",
       "      <td>406</td>\n",
       "      <td>755</td>\n",
       "      <td>A</td>\n",
       "      <td>inc</td>\n",
       "      <td>inc</td>\n",
       "      <td>...</td>\n",
       "      <td>0</td>\n",
       "      <td>2</td>\n",
       "      <td>0</td>\n",
       "      <td>5</td>\n",
       "      <td>947984</td>\n",
       "      <td>614107</td>\n",
       "      <td>0</td>\n",
       "      <td>0</td>\n",
       "      <td>1</td>\n",
       "      <td>oui</td>\n",
       "    </tr>\n",
       "    <tr>\n",
       "      <th>140210</th>\n",
       "      <td>31</td>\n",
       "      <td>01</td>\n",
       "      <td>1</td>\n",
       "      <td>82</td>\n",
       "      <td>M</td>\n",
       "      <td>445</td>\n",
       "      <td>770</td>\n",
       "      <td>A</td>\n",
       "      <td>inc</td>\n",
       "      <td>inc</td>\n",
       "      <td>...</td>\n",
       "      <td>33</td>\n",
       "      <td>2</td>\n",
       "      <td>0</td>\n",
       "      <td>5</td>\n",
       "      <td>3368558</td>\n",
       "      <td>2569775</td>\n",
       "      <td>3</td>\n",
       "      <td>3</td>\n",
       "      <td>5</td>\n",
       "      <td>oui</td>\n",
       "    </tr>\n",
       "    <tr>\n",
       "      <th>148009</th>\n",
       "      <td>31</td>\n",
       "      <td>01</td>\n",
       "      <td>1</td>\n",
       "      <td>51</td>\n",
       "      <td>M</td>\n",
       "      <td>238</td>\n",
       "      <td>311</td>\n",
       "      <td>A</td>\n",
       "      <td>inc</td>\n",
       "      <td>inc</td>\n",
       "      <td>...</td>\n",
       "      <td>14</td>\n",
       "      <td>2</td>\n",
       "      <td>0</td>\n",
       "      <td>inc</td>\n",
       "      <td>1303700</td>\n",
       "      <td>556967</td>\n",
       "      <td>0</td>\n",
       "      <td>0</td>\n",
       "      <td>1</td>\n",
       "      <td>oui</td>\n",
       "    </tr>\n",
       "    <tr>\n",
       "      <th>442153</th>\n",
       "      <td>82</td>\n",
       "      <td>06</td>\n",
       "      <td>1</td>\n",
       "      <td>52</td>\n",
       "      <td>M</td>\n",
       "      <td>270</td>\n",
       "      <td>465</td>\n",
       "      <td>A</td>\n",
       "      <td>inc</td>\n",
       "      <td>inc</td>\n",
       "      <td>...</td>\n",
       "      <td>5</td>\n",
       "      <td>2</td>\n",
       "      <td>0</td>\n",
       "      <td>5</td>\n",
       "      <td>19856243</td>\n",
       "      <td>133896</td>\n",
       "      <td>0</td>\n",
       "      <td>0</td>\n",
       "      <td>0</td>\n",
       "      <td>oui</td>\n",
       "    </tr>\n",
       "    <tr>\n",
       "      <th>552427</th>\n",
       "      <td>97</td>\n",
       "      <td>01</td>\n",
       "      <td>1</td>\n",
       "      <td>58</td>\n",
       "      <td>M</td>\n",
       "      <td>139</td>\n",
       "      <td>345</td>\n",
       "      <td>C</td>\n",
       "      <td>inc</td>\n",
       "      <td>inc</td>\n",
       "      <td>...</td>\n",
       "      <td>0</td>\n",
       "      <td>1</td>\n",
       "      <td>0</td>\n",
       "      <td>1</td>\n",
       "      <td>122745</td>\n",
       "      <td>0</td>\n",
       "      <td>0</td>\n",
       "      <td>0</td>\n",
       "      <td>0</td>\n",
       "      <td>oui</td>\n",
       "    </tr>\n",
       "  </tbody>\n",
       "</table>\n",
       "<p>5 rows × 55 columns</p>\n",
       "</div>"
      ],
      "text/plain": [
       "       DEPTS PVS SEXEQ AGER FAMIQ RELAT PCSPQ QUALS G03G04S G25G26S  ...   \\\n",
       "MATRIC                                                               ...    \n",
       "131842    31  03     1   67     M   406   755     A     inc     inc  ...    \n",
       "140210    31  01     1   82     M   445   770     A     inc     inc  ...    \n",
       "148009    31  01     1   51     M   238   311     A     inc     inc  ...    \n",
       "442153    82  06     1   52     M   270   465     A     inc     inc  ...    \n",
       "552427    97  01     1   58     M   139   345     C     inc     inc  ...    \n",
       "\n",
       "       ZOCNB NTCAS NPTAG SEGV2S     ITAVC    HAVEF JNBJD1S JNBJD2S JNBJD3S  \\\n",
       "MATRIC                                                                       \n",
       "131842     0     2     0      5    947984   614107       0       0       1   \n",
       "140210    33     2     0      5   3368558  2569775       3       3       5   \n",
       "148009    14     2     0    inc   1303700   556967       0       0       1   \n",
       "442153     5     2     0      5  19856243   133896       0       0       0   \n",
       "552427     0     1     0      1    122745        0       0       0       0   \n",
       "\n",
       "       CARVP  \n",
       "MATRIC        \n",
       "131842   oui  \n",
       "140210   oui  \n",
       "148009   oui  \n",
       "442153   oui  \n",
       "552427   oui  \n",
       "\n",
       "[5 rows x 55 columns]"
      ]
     },
     "execution_count": 3,
     "metadata": {},
     "output_type": "execute_result"
    }
   ],
   "source": [
    "#Lecture\n",
    "listeVar=['MATRIC','DEPTS','PVS','SEXEQ','AGER','FAMIQ', \n",
    " 'RELAT','PCSPQ','QUALS','G03G04S','G25G26S', \n",
    " 'G29G30S','G35G36S','G37G38S','G45G46S','G47G48S',\n",
    " 'IMPNBS','REJETS','OPGNB','MOYRV','TAVEP','ENDET','GAGET',\n",
    " 'GAGEC','GAGEM','KVUNB','QSMOY','QCRED','DMVTP','BOPPN',\n",
    " 'FACAN','LGAGT','VIENB','VIEMT','UEMNB','UEMMTS','XLGNB',\n",
    " 'XLGMT','YLVNB','YLVMT','NBELTS','MTELTS','NBCATS','MTCATS',\n",
    " 'NBBECS','MTBECS','ZOCNB','NTCAS','NPTAG','SEGV2S','ITAVC',\n",
    " 'HAVEF','JNBJD1S','JNBJD2S','JNBJD3S','CARVP']\n",
    "path=\"\"\n",
    "visaraw = pd.read_table(path+'visa_raw.dat',\n",
    "                        sep=';',header=None, index_col=0, names=listeVar)\n",
    "visaraw.head()"
   ]
  },
  {
   "cell_type": "markdown",
   "metadata": {},
   "source": [
    "Une fonction permet de définir le bon type \"categorical\" des variables qualitatives  en utilisant un dictionnaire des modalités pour le recodage."
   ]
  },
  {
   "cell_type": "code",
   "execution_count": 1,
   "metadata": {},
   "outputs": [],
   "source": [
    "def create_categorical_data(df,column_name, cat_name_dic):\n",
    "    cat_columns = pd.Categorical(df[column_name],ordered=False)\n",
    "    new_categorie = [cat_name_dic[old_name] for old_name in cat_columns.categories]\n",
    "    return cat_columns.rename_categories(new_categorie)"
   ]
  },
  {
   "cell_type": "code",
   "execution_count": 2,
   "metadata": {},
   "outputs": [
    {
     "ename": "NameError",
     "evalue": "name 'visaraw' is not defined",
     "output_type": "error",
     "traceback": [
      "\u001b[1;31m---------------------------------------------------------------------------\u001b[0m",
      "\u001b[1;31mNameError\u001b[0m                                 Traceback (most recent call last)",
      "\u001b[1;32m<ipython-input-2-e6506568333f>\u001b[0m in \u001b[0;36m<module>\u001b[1;34m\u001b[0m\n\u001b[0;32m      1\u001b[0m \u001b[1;31m#FAMIQ\u001b[0m\u001b[1;33m\u001b[0m\u001b[1;33m\u001b[0m\u001b[1;33m\u001b[0m\u001b[0m\n\u001b[0;32m      2\u001b[0m \u001b[0mcat_name_dic\u001b[0m \u001b[1;33m=\u001b[0m \u001b[1;33m{\u001b[0m\u001b[1;34m'C'\u001b[0m\u001b[1;33m:\u001b[0m\u001b[1;34m'Fcel'\u001b[0m\u001b[1;33m,\u001b[0m\u001b[1;34m'D'\u001b[0m\u001b[1;33m:\u001b[0m\u001b[1;34m'Fdiv'\u001b[0m\u001b[1;33m,\u001b[0m\u001b[1;34m'M'\u001b[0m\u001b[1;33m:\u001b[0m\u001b[1;34m'Fmar'\u001b[0m\u001b[1;33m,\u001b[0m\u001b[1;34m'S'\u001b[0m\u001b[1;33m:\u001b[0m\u001b[1;34m'Fsep'\u001b[0m\u001b[1;33m,\u001b[0m\u001b[1;34m'U'\u001b[0m\u001b[1;33m:\u001b[0m\u001b[1;34m'Fuli'\u001b[0m\u001b[1;33m,\u001b[0m\u001b[1;34m'V'\u001b[0m\u001b[1;33m:\u001b[0m\u001b[1;34m'Fveu'\u001b[0m\u001b[1;33m,\u001b[0m\u001b[1;34m'inc'\u001b[0m\u001b[1;33m:\u001b[0m\u001b[1;34m'Finc'\u001b[0m\u001b[1;33m}\u001b[0m\u001b[1;33m\u001b[0m\u001b[1;33m\u001b[0m\u001b[0m\n\u001b[1;32m----> 3\u001b[1;33m \u001b[0mvisaraw\u001b[0m\u001b[1;33m[\u001b[0m\u001b[1;34m\"FAMIQ\"\u001b[0m\u001b[1;33m]\u001b[0m\u001b[1;33m=\u001b[0m\u001b[0mcreate_categorical_data\u001b[0m\u001b[1;33m(\u001b[0m\u001b[0mvisaraw\u001b[0m\u001b[1;33m,\u001b[0m\u001b[1;34m\"FAMIQ\"\u001b[0m\u001b[1;33m,\u001b[0m \u001b[0mcat_name_dic\u001b[0m\u001b[1;33m)\u001b[0m\u001b[1;33m\u001b[0m\u001b[1;33m\u001b[0m\u001b[0m\n\u001b[0m\u001b[0;32m      4\u001b[0m \u001b[1;31m#SEXEQ\u001b[0m\u001b[1;33m\u001b[0m\u001b[1;33m\u001b[0m\u001b[1;33m\u001b[0m\u001b[0m\n\u001b[0;32m      5\u001b[0m \u001b[0mcat_name_dic\u001b[0m \u001b[1;33m=\u001b[0m \u001b[1;33m{\u001b[0m\u001b[1;34m'1'\u001b[0m\u001b[1;33m:\u001b[0m\u001b[1;34m'Shom'\u001b[0m\u001b[1;33m,\u001b[0m\u001b[1;34m'2'\u001b[0m\u001b[1;33m:\u001b[0m\u001b[1;34m'Sfem'\u001b[0m\u001b[1;33m,\u001b[0m\u001b[1;34m'inc'\u001b[0m\u001b[1;33m:\u001b[0m\u001b[1;34m'Sinc'\u001b[0m\u001b[1;33m}\u001b[0m\u001b[1;33m\u001b[0m\u001b[1;33m\u001b[0m\u001b[0m\n",
      "\u001b[1;31mNameError\u001b[0m: name 'visaraw' is not defined"
     ]
    }
   ],
   "source": [
    "#FAMIQ\n",
    "cat_name_dic = {'C':'Fcel','D':'Fdiv','M':'Fmar','S':'Fsep','U':'Fuli','V':'Fveu','inc':'Finc'}\n",
    "visaraw[\"FAMIQ\"]=create_categorical_data(visaraw,\"FAMIQ\", cat_name_dic)\n",
    "#SEXEQ\n",
    "cat_name_dic = {'1':'Shom','2':'Sfem','inc':'Sinc'}\n",
    "visaraw[\"SEXEQ\"]=create_categorical_data(visaraw,\"SEXEQ\", cat_name_dic)\n",
    "#CARVP\n",
    "cat_name_dic = {'non':'Cnon','oui':'Coui'}\n",
    "visaraw[\"CARVP\"]=create_categorical_data(visaraw,\"CARVP\", cat_name_dic)\n",
    "#PCSPQ\n",
    "visaraw[\"PCSPQ\"] = visaraw[\"PCSPQ\"].str.get(0).replace(\"0\",\"i\")\n",
    "cat_name_dic = {'1':'Pagr', '2':'Part', '3':'Pcad', '4':'Pint', '5':'Pemp','6':'Pouv',\n",
    "                '7':'Pret', '8':'Psan', 'i':'Pinc'}\n",
    "visaraw[\"PCSPQ\"]=create_categorical_data(visaraw,\"PCSPQ\", cat_name_dic)"
   ]
  },
  {
   "cell_type": "markdown",
   "metadata": {},
   "source": [
    "####  Premiers nettoyages\n",
    "Suppression d'observations non pertinentes:interdits bancaires et comptes professionnels."
   ]
  },
  {
   "cell_type": "code",
   "execution_count": null,
   "metadata": {},
   "outputs": [],
   "source": [
    "visaraw = visaraw[visaraw.NBCATS!= \"1\"]\n",
    "visaraw = visaraw[visaraw.NBBECS!= \"1\"]\n",
    "\n",
    "visaraw= visaraw[np.logical_not(visaraw.G29G30S.isin(['B','X']))] \n",
    "visaraw= visaraw[np.logical_not(visaraw.G03G04S.isin(['B','X']))] \n",
    "visaraw= visaraw[np.logical_not(visaraw.G45G46S.isin(['A','B','X']))] \n",
    "visaraw= visaraw[np.logical_not(visaraw.G37G38S.isin(['A']))] \n",
    "visaraw= visaraw[np.logical_not(visaraw.G25G26S.isin(['A','B','X']))] \n",
    "visaraw= visaraw[np.logical_not(visaraw.G47G48S.isin(['B']))] "
   ]
  },
  {
   "cell_type": "markdown",
   "metadata": {},
   "source": [
    "Suppression d'observations avec données manquantes de la variable `AGER`"
   ]
  },
  {
   "cell_type": "code",
   "execution_count": null,
   "metadata": {},
   "outputs": [],
   "source": [
    "visaraw = visaraw[visaraw.AGER!='.']"
   ]
  },
  {
   "cell_type": "markdown",
   "metadata": {},
   "source": [
    "Seulement les clients de 18 à 65 ans"
   ]
  },
  {
   "cell_type": "code",
   "execution_count": null,
   "metadata": {},
   "outputs": [],
   "source": [
    "visaraw[\"AGER\"]=visaraw[\"AGER\"].astype(int)\n",
    "visaraw=visaraw[np.logical_and(visaraw[\"AGER\"]<66,visaraw[\"AGER\"]>17)]"
   ]
  },
  {
   "cell_type": "markdown",
   "metadata": {},
   "source": [
    "Recodage des données manquantes"
   ]
  },
  {
   "cell_type": "code",
   "execution_count": null,
   "metadata": {},
   "outputs": [],
   "source": [
    "visaraw[\"ZOCNB\"]=visaraw[\"ZOCNB\"].replace(\".\",np.nan)\n",
    "visaraw[\"DMVTP\"]=visaraw[\"DMVTP\"].replace(\".\",np.nan)"
   ]
  },
  {
   "cell_type": "markdown",
   "metadata": {},
   "source": [
    "Correction des types des variables "
   ]
  },
  {
   "cell_type": "code",
   "execution_count": null,
   "metadata": {},
   "outputs": [],
   "source": [
    "listeVarFl=['RELAT','IMPNBS','REJETS','OPGNB','MOYRV',\n",
    "'TAVEP','ENDET','GAGET','GAGEC','GAGEM','KVUNB','QSMOY','QCRED',\n",
    "'DMVTP','BOPPN','FACAN','LGAGT','VIENB','VIEMT','UEMNB','UEMMTS','XLGNB',\n",
    " 'XLGMT','YLVNB','YLVMT','NBELTS','MTELTS','NBCATS','MTCATS',\n",
    " 'NBBECS','MTBECS','ZOCNB','NTCAS','NPTAG','ITAVC',\n",
    " 'HAVEF','JNBJD1S','JNBJD2S','JNBJD3S']\n",
    "visaraw[listeVarFl]=visaraw[listeVarFl].astype(float)"
   ]
  },
  {
   "cell_type": "markdown",
   "metadata": {},
   "source": [
    "Un seule variable nombre de jours de débit cumulé"
   ]
  },
  {
   "cell_type": "code",
   "execution_count": null,
   "metadata": {},
   "outputs": [],
   "source": [
    "visaraw[\"JNBJD\"]=visaraw[\"JNBJD1S\"]+visaraw[\"JNBJD2S\"]+visaraw[\"JNBJD3S\"] "
   ]
  },
  {
   "cell_type": "markdown",
   "metadata": {},
   "source": [
    "Suppression des variables devenues inutiles"
   ]
  },
  {
   "cell_type": "code",
   "execution_count": null,
   "metadata": {},
   "outputs": [],
   "source": [
    "listeVarSup=[\"DEPTS\",\"QUALS\",\"G03G04S\",\"G25G26S\",\"G29G30S\",\"G35G36S\",\n",
    "            \"G37G38S\",\"G45G46S\",\"G47G48S\",\"SEGV2S\",\"PVS\",\"JNBJD1S\",\"JNBJD2S\",\"JNBJD3S\"]\n",
    "visaraw.drop(listeVarSup,inplace=True,axis=1)"
   ]
  },
  {
   "cell_type": "markdown",
   "metadata": {},
   "source": [
    "Mise à jour de la liste des variables"
   ]
  },
  {
   "cell_type": "code",
   "execution_count": null,
   "metadata": {},
   "outputs": [],
   "source": [
    "listeVar = [x for x in listeVar if x not in listeVarSup]"
   ]
  },
  {
   "cell_type": "markdown",
   "metadata": {},
   "source": [
    "### Desciption univariée et bivariée"
   ]
  },
  {
   "cell_type": "code",
   "execution_count": null,
   "metadata": {},
   "outputs": [],
   "source": [
    "# Moyennes\n",
    "visaprem=visaraw\n",
    "visaprem.mean()"
   ]
  },
  {
   "cell_type": "markdown",
   "metadata": {},
   "source": [
    "**Q** Quel problème révèle la distribution ci-dessous de la variable  « ancienneté dans la banque », exprimée en mois?"
   ]
  },
  {
   "cell_type": "code",
   "execution_count": null,
   "metadata": {},
   "outputs": [],
   "source": [
    "visaprem[\"RELAT\"].hist(bins=20)\n",
    "plt.show()"
   ]
  },
  {
   "cell_type": "markdown",
   "metadata": {},
   "source": [
    "**Q** Que dire de la distribution de la variable ci-dessous? Quelle transformaiton proposer?"
   ]
  },
  {
   "cell_type": "code",
   "execution_count": null,
   "metadata": {},
   "outputs": [],
   "source": [
    "visaprem[\"TAVEP\"].hist(bins=20)\n",
    "plt.show()"
   ]
  },
  {
   "cell_type": "code",
   "execution_count": null,
   "metadata": {},
   "outputs": [],
   "source": [
    "visaprem[\"QSMOY\"].hist(bins=20)\n",
    "plt.show()"
   ]
  },
  {
   "cell_type": "code",
   "execution_count": null,
   "metadata": {},
   "outputs": [],
   "source": [
    "import scipy.stats as stats\n",
    "stats.probplot(visaprem[\"QSMOY\"], dist=\"norm\", plot=plt)"
   ]
  },
  {
   "cell_type": "markdown",
   "metadata": {},
   "source": [
    "**Q**  Quel problème pose les deux variables ci-dessous? Quelle correction proposer?"
   ]
  },
  {
   "cell_type": "code",
   "execution_count": null,
   "metadata": {},
   "outputs": [],
   "source": [
    "visaprem[\"PCSPQ\"].value_counts()"
   ]
  },
  {
   "cell_type": "code",
   "execution_count": null,
   "metadata": {},
   "outputs": [],
   "source": [
    "visaprem[\"FAMIQ\"].value_counts()"
   ]
  },
  {
   "cell_type": "markdown",
   "metadata": {},
   "source": [
    "**Q** Quel est le graphe ci-dessous? Les variables vous semblent-elles liées?"
   ]
  },
  {
   "cell_type": "code",
   "execution_count": null,
   "metadata": {},
   "outputs": [],
   "source": [
    "visaprem.boxplot('QSMOY','CARVP')\n",
    "plt.show()"
   ]
  },
  {
   "cell_type": "markdown",
   "metadata": {},
   "source": [
    "La moyenne des soldes moyens sur trois mois `QSMOY` pose un problème mais elle semble peu discriminante, elle est conservée en l'état. Sinon une transformation par la fonction \"argument sinus hyperbolique\" peut être utilisée avec ce type de distribution mais ce n'est pas indispensable.\n",
    "\n",
    "**Q** Que représente le graphique ci-dessous? Interprétation en quelques lignes. Ces variables semblent-elles liées ? "
   ]
  },
  {
   "cell_type": "code",
   "execution_count": null,
   "metadata": {},
   "outputs": [],
   "source": [
    "from statsmodels.graphics.mosaicplot import mosaic\n",
    "visaprem[\"SEXEQ\"]=visaprem[\"SEXEQ\"].cat.remove_unused_categories()\n",
    "table=pd.crosstab(visaprem[\"SEXEQ\"],visaprem[\"CARVP\"])\n",
    "print(table)\n",
    "mosaic(table.stack())\n",
    "plt.show()"
   ]
  },
  {
   "cell_type": "markdown",
   "metadata": {},
   "source": [
    "**Q** Quel problème révèle le tableau ci-dessous? Comment le régler?"
   ]
  },
  {
   "cell_type": "code",
   "execution_count": null,
   "metadata": {},
   "outputs": [],
   "source": [
    "table=pd.crosstab(visaprem[\"NTCAS\"],visaprem[\"CARVP\"])\n",
    "print(table)"
   ]
  },
  {
   "cell_type": "markdown",
   "metadata": {},
   "source": [
    "**Q** Ce graphique représente la variable « ancienneté dans la banque », exprimée en mois, en fonction de l’âge du client en années. Quelle incohérence montre ce graphique ? Quelles en est la raison?."
   ]
  },
  {
   "cell_type": "code",
   "execution_count": null,
   "metadata": {},
   "outputs": [],
   "source": [
    "visaprem.plot('AGER','RELAT',kind='scatter')\n",
    "plt.show()"
   ]
  },
  {
   "cell_type": "markdown",
   "metadata": {},
   "source": [
    "**Q** Quel problème révèle le tableau ci-dessous? Comment le résoudre?"
   ]
  },
  {
   "cell_type": "code",
   "execution_count": null,
   "metadata": {},
   "outputs": [],
   "source": [
    "table=pd.crosstab(visaprem[\"NTCAS\"],visaprem[\"ZOCNB\"].isnull())\n",
    "print(table)"
   ]
  },
  {
   "cell_type": "code",
   "execution_count": null,
   "metadata": {},
   "outputs": [],
   "source": [
    "#Transformations des variables \n",
    "## regroupements de modalités\n",
    "visatrans=visaprem\n",
    "FAMIQ_DIC = {\"Fmar\":'Fcou',\"Fuli\":'Fcou',\"Fdiv\":'Fseu','Fveu':'Fseu',\n",
    "                        \"Fsep\":'Fseu',\"Fcel\":'Fseu'}\n",
    "PCSPQ_DIC = {\"Pagr\":\"Pint\",'Part':\"Pint\",\"Pret\":\"Psan\",\"Pinc\":\"Psan\"}\n",
    "# attention de bien gétrer le type des variables\n",
    "visatrans[\"PCSPQ\"]=pd.Categorical(visatrans[\"PCSPQ\"].astype(str).replace(PCSPQ_DIC),ordered=False)\n",
    "visatrans[\"FAMIQ\"]=visatrans[\"FAMIQ\"].astype(str).replace(FAMIQ_DIC)"
   ]
  },
  {
   "cell_type": "code",
   "execution_count": null,
   "metadata": {},
   "outputs": [],
   "source": [
    "# complétion de valeurs\n",
    "visatrans[\"ZOCNB\"].fillna(0, inplace=True)\n",
    "visatrans[\"ZOCNB\"]\n",
    "visatrans = visatrans[visatrans.DMVTP.notnull()]\n",
    "# Correction ancienneté relation\n",
    "visatrans[\"RELAT\"]= [x-720 if x>600 else x for x in visatrans[\"RELAT\"]]"
   ]
  },
  {
   "cell_type": "code",
   "execution_count": null,
   "metadata": {},
   "outputs": [],
   "source": [
    "# log des variables de distribution dissymétrique \n",
    "def log1(x):\n",
    "    return np.log(1+x)\n",
    "listeVarLog=['OPGNB','MOYRV','TAVEP','ENDET','GAGET','GAGEC',\n",
    "'GAGEM','QCRED','DMVTP','BOPPN','FACAN','LGAGT',\n",
    "'VIEMT','XLGMT','YLVMT','ITAVC','HAVEF','JNBJD']\n",
    "visatrans[listeVarLog]=log1(visatrans[listeVarLog])\n",
    "visatrans[\"ZOCNB\"]=np.sqrt(visatrans[\"ZOCNB\"])"
   ]
  },
  {
   "cell_type": "markdown",
   "metadata": {},
   "source": [
    "**Vérifier** les distributions des variables transformées."
   ]
  },
  {
   "cell_type": "code",
   "execution_count": null,
   "metadata": {},
   "outputs": [],
   "source": [
    "visatrans2 = visatrans[[\"SEXEQ\",\"AGER\",\"FAMIQ\",\"RELAT\",\"PCSPQ\",\"OPGNB\", \"MOYRV\",\"TAVEP\", \"ENDET\", \"GAGET\",\"GAGEC\", \"GAGEM\", \"KVUNB\",\"QSMOY\", \"QCRED\", \"DMVTP\",\"BOPPN\", \"FACAN\", \"LGAGT\",\"VIENB\", \"VIEMT\", \"UEMNB\",\"XLGNB\", \"XLGMT\", \"YLVNB\",\"YLVMT\", \"ZOCNB\", \"NPTAG\",\"ITAVC\", \"HAVEF\",\"JNBJD\", \"CARVP\"]]\n",
    "visatrans2.head()"
   ]
  },
  {
   "cell_type": "markdown",
   "metadata": {},
   "source": [
    "**Q** Comment interpréter le graphe ci-dessous?"
   ]
  },
  {
   "cell_type": "code",
   "execution_count": null,
   "metadata": {
    "scrolled": true
   },
   "outputs": [],
   "source": [
    "from pandas.tools.plotting import scatter_matrix\n",
    "scatter_matrix(visatrans[[\"AGER\", \"RELAT\",\"QSMOY\", \"OPGNB\", \"MOYRV\",\"TAVEP\", \"ENDET\", \"GAGET\",\"GAGEC\",\"GAGEM\", \"QCRED\", \"DMVTP\",\"BOPPN\",\"FACAN\",\"LGAGT\",\"VIENB\",\"VIEMT\",\"UEMNB\",\"XLGNB\",\"XLGMT\",\"YLVNB\",\"YLVMT\",\"ZOCNB\"]], alpha=0.2, figsize=(15, 15), diagonal='kde')\n",
    "plt.show()"
   ]
  },
  {
   "cell_type": "markdown",
   "metadata": {},
   "source": [
    "# <FONT COLOR=\"Red\">Épisode 2 ACP</font>\n",
    "## Analyse en composantes principales\n",
    "Cette phase de l'analyse permet de mieux comprendre la structure de corrélation des variables afin de d'appréhender ce que seront les grandes classes de comportement des clients."
   ]
  },
  {
   "cell_type": "markdown",
   "metadata": {},
   "source": [
    "**Q** L'ACP calculée ci-dessous est-elle réduite ? Pourquoi?"
   ]
  },
  {
   "cell_type": "code",
   "execution_count": null,
   "metadata": {},
   "outputs": [],
   "source": [
    "from sklearn.decomposition import PCA\n",
    "from sklearn.preprocessing import scale\n",
    "# définition de la commande\n",
    "pca = PCA()\n",
    "# Sélection des variables quantitatives\n",
    "dat=visatrans[[\"AGER\",\"RELAT\",\"KVUNB\", \"OPGNB\", \"MOYRV\",\"TAVEP\",\"ENDET\",\"GAGET\",\"GAGEC\",\"GAGEM\",\"QCRED\",\"DMVTP\",\"BOPPN\",\"FACAN\",\"LGAGT\",\"VIEMT\",\"XLGMT\",\"YLVMT\",\"ITAVC\",\"HAVEF\",\"JNBJD\",\"ZOCNB\"]]\n",
    "# réduction\n",
    "data = pd.DataFrame(scale(dat),columns=dat.columns)\n",
    "# composantes principales\n",
    "C = pca.fit(data).transform(data)"
   ]
  },
  {
   "cell_type": "markdown",
   "metadata": {},
   "source": [
    "### Choix de dimension"
   ]
  },
  {
   "cell_type": "code",
   "execution_count": null,
   "metadata": {},
   "outputs": [],
   "source": [
    "# Eboulis des valeurs propres\n",
    "plt.figure()\n",
    "plt.plot(pca.explained_variance_ratio_)\n",
    "plt.show()"
   ]
  },
  {
   "cell_type": "markdown",
   "metadata": {},
   "source": [
    "**Q** Que représente le graphe ci-dessous? Quelle information en tirer?"
   ]
  },
  {
   "cell_type": "code",
   "execution_count": null,
   "metadata": {},
   "outputs": [],
   "source": [
    "# Diagrammes boîte des composantes principales\n",
    "plt.figure()\n",
    "plt.boxplot(C[:,0:20])\n",
    "plt.show()"
   ]
  },
  {
   "cell_type": "markdown",
   "metadata": {},
   "source": [
    "### Représentation des individus"
   ]
  },
  {
   "cell_type": "markdown",
   "metadata": {},
   "source": [
    "**Q** Quel est le graphe ci-dessous? Quelle information en retenir?"
   ]
  },
  {
   "cell_type": "code",
   "execution_count": null,
   "metadata": {},
   "outputs": [],
   "source": [
    "plt.figure(figsize=(10,8))\n",
    "for i, j, nom in zip(C[:,0], C[:,1], visatrans['CARVP']):\n",
    "    color = \"red\" if nom == \"Coui\" else \"blue\"\n",
    "    plt.text(i, j, nom, color=color)\n",
    "plt.axis((-6,7.5,-5,6))  \n",
    "plt.show()"
   ]
  },
  {
   "cell_type": "markdown",
   "metadata": {},
   "source": [
    "### Variables et cercle des corrélations\n",
    "**Q** Que représent le graphe ci-dessous? Donner en une ligne une interprétation de l'axe 1 puis de l'axe2."
   ]
  },
  {
   "cell_type": "code",
   "execution_count": null,
   "metadata": {},
   "outputs": [],
   "source": [
    "# coordonnées des variables\n",
    "coord1=pca.components_[0]*np.sqrt(pca.explained_variance_[0])\n",
    "coord2=pca.components_[1]*np.sqrt(pca.explained_variance_[1])\n",
    "fig = plt.figure(figsize=(8,8))\n",
    "ax = fig.add_subplot(1, 1, 1)\n",
    "for i, j, nom in zip(coord1,coord2, data.columns):\n",
    "    plt.text(i, j, nom)\n",
    "    plt.arrow(0,0,i,j,color='r')\n",
    "plt.axis((-1.2,1.2,-1.2,1.2))\n",
    "# cercle\n",
    "c=plt.Circle((0,0), radius=1, color='b', fill=False)\n",
    "ax.add_patch(c)\n",
    "plt.show()"
   ]
  },
  {
   "cell_type": "markdown",
   "metadata": {},
   "source": [
    "### Classification des variables\n",
    "**Q** Les classes de variables sont-elles cohérentes avec l'interprétataion des axes?"
   ]
  },
  {
   "cell_type": "code",
   "execution_count": null,
   "metadata": {},
   "outputs": [],
   "source": [
    "# Stratégie utilisée pour aider à l'interprétation du plan principal \n",
    "# lorsque le nombre de variables est important\n",
    "from scipy.cluster.hierarchy import dendrogram, linkage\n",
    "Z = linkage(data.T, 'ward')\n",
    "plt.figure(figsize=(15, 8))\n",
    "plt.title('Hierarchical Clustering Dendrogram')\n",
    "plt.xlabel('Variable')\n",
    "plt.ylabel('Distance')\n",
    "dendrogram(Z,leaf_font_size=8.,labels=data.columns)\n",
    "plt.show()"
   ]
  },
  {
   "cell_type": "markdown",
   "metadata": {},
   "source": [
    "Pas d'épisode 3 car l'AFD n'est pas adaptée aux données.\n",
    "# <FONT COLOR=\"Red\">Épisode 4 AFCM</font>\n",
    "## Analyse multiple des correspondances \n",
    "Afin d'intégrer toutes les variables et pas seulement celles quantitatives, un recodage de ces dernières variables, permet de toutes les intégrer dans une analyse multiple des correspondances. \n",
    "\n",
    "**Remarques**\n",
    "- Le nombre de classes doit être relativement restreint pour limiter les dimensions et faciliter les interprétations, \n",
    "- il est préférable de choisir, pour des variables distribuées \"normalement\", des classes d'effectifs égaux: les bornes sont des quantiles.\n",
    "- Dans le cas des données bancaires, les variables présentant une distribution très asymétrique se résument souvent en une variable dichotomique: présence ou absence d'un produit financier donné. Dans ce dernier cas, il est inutile de conserver à la fois une variable \"nombre\" et une variable \"montant\" du même produit financier.\n",
    "- Enfin, pour des raisons techniques de lisibilité des graphiques en SAS, les codes des modalités associés à une même variable commencent par la même lettre. Les programmes ci-dessous devraient être adaptés afin d'utiliser cette convention pour améliorer la lisibilité des graphiques.\n",
    "\n",
    "**Q** Commenter succinctement chacune des étapes nécessaires à la transformation des variables pour réaliser une analyse multiple des correspondances."
   ]
  },
  {
   "cell_type": "code",
   "execution_count": null,
   "metadata": {},
   "outputs": [],
   "source": [
    "#Recodage des modalités \n",
    "import random\n",
    "visapremv=visatrans2"
   ]
  },
  {
   "cell_type": "code",
   "execution_count": null,
   "metadata": {},
   "outputs": [],
   "source": [
    "visapremv[\"FAMIQ\"].value_counts()"
   ]
  },
  {
   "cell_type": "code",
   "execution_count": null,
   "metadata": {},
   "outputs": [],
   "source": [
    "# Recodages aléatoire des Finc\n",
    "def rep_fami(x):\n",
    "    if random.random()<0.45:\n",
    "        x=\"Fseu\"\n",
    "    else:\n",
    "        x=\"Fcou\"\n",
    "    return x\n",
    "visapremv[\"FAMIQ\"]=[x if x!=\"Finc\" else rep_fami(x) for x in visapremv[\"FAMIQ\"]]"
   ]
  },
  {
   "cell_type": "code",
   "execution_count": null,
   "metadata": {},
   "outputs": [],
   "source": [
    "visapremv[\"FAMIQ\"].value_counts()"
   ]
  },
  {
   "cell_type": "code",
   "execution_count": null,
   "metadata": {},
   "outputs": [],
   "source": [
    "# attention au type\n",
    "visapremv[\"FAMIQ\"]=visapremv[\"FAMIQ\"].astype('category')"
   ]
  },
  {
   "cell_type": "code",
   "execution_count": null,
   "metadata": {},
   "outputs": [],
   "source": [
    "kvunbq = [\"K0\" if x in [0,1] else \"K1\" for x in visapremv[\"KVUNB\"] ]\n",
    "visapremv[\"KVUNBQ\"]=pd.Categorical(kvunbq,ordered=False)\n",
    "\n",
    "vienbq = [\"V0\" if x==0 else \"V1\" for x in visapremv[\"VIENB\"]]\n",
    "visapremv[\"VIENBQ\"]=pd.Categorical(vienbq,ordered=False)\n",
    "\n",
    "uemnbq = [\"U0\" if x==0 else \"U1\" if x==1 else \"U2\" for x in visapremv[\"UEMNB\"] ]\n",
    "visapremv[\"UEMNBQ\"]=pd.Categorical(uemnbq,ordered=False)\n",
    "\n",
    "xlgnbq = [\"X0\" if x==0 else \"X1\" if x==1 else \"X2\" for x in visapremv[\"XLGNB\"] ]\n",
    "visapremv[\"XLGNBQ\"]=pd.Categorical(xlgnbq,ordered=False)\n",
    "\n",
    "ylvnbq = [\"Y0\" if x==0 else \"Y1\" if x==1 else \"Y2\" for x in visapremv[\"YLVNB\"] ]\n",
    "visapremv[\"YLVNBQ\"]=pd.Categorical(ylvnbq,ordered=False)\n",
    "\n",
    "zocnbq = [\"Z0\" if x ==0 else \"Z1\" for x in visapremv[\"ZOCNB\"] ]\n",
    "visapremv[\"ZOCNBQ\"]=pd.Categorical(zocnbq,ordered=False)\n",
    "\n",
    "nptagq = [\"N0\" if x ==0 else \"N1\" for x in visapremv[\"NPTAG\"] ]\n",
    "visapremv[\"NPTAGQ\"]=pd.Categorical(nptagq,ordered=False)\n",
    "\n",
    "jnbjdq = [\"J0\" if x==0 else \"J1\" for x in visapremv[\"JNBJD\"] ]\n",
    "visapremv[\"JNBJDQ\"]=pd.Categorical(jnbjdq,ordered=False)"
   ]
  },
  {
   "cell_type": "code",
   "execution_count": null,
   "metadata": {},
   "outputs": [],
   "source": [
    "def rec(df,col_name,a,b):\n",
    "    colq = [b if x>0 else a for x in df[col_name]]\n",
    "    return colq\n",
    "\n",
    "visapremv[\"ENDETQ\"]=pd.Categorical(rec(visapremv,\"ENDET\",\"E0\",\"E1\"),ordered=False)\n",
    "visapremv[\"GAGETQ\"]=pd.Categorical(rec(visapremv,\"GAGET\",\"G0\",\"G1\"),ordered=False)\n",
    "visapremv[\"FACANQ\"]=pd.Categorical(rec(visapremv,\"FACAN\",\"F0\",\"F1\"),ordered=False)\n",
    "visapremv[\"LGAGTQ\"]=pd.Categorical(rec(visapremv,\"LGAGT\",\"L0\",\"L1\"),ordered=False)\n",
    "visapremv[\"HAVEFQ\"]=pd.Categorical(rec(visapremv,\"HAVEF\",\"H0\",\"H1\"),ordered=False)"
   ]
  },
  {
   "cell_type": "code",
   "execution_count": null,
   "metadata": {},
   "outputs": [],
   "source": [
    "visapremw=visapremv[[\"AGER\",\"RELAT\",\"QSMOY\",\"OPGNB\",\"MOYRV\",\"TAVEP\",\"DMVTP\",\"BOPPN\",\"ITAVC\"]]"
   ]
  },
  {
   "cell_type": "code",
   "execution_count": null,
   "metadata": {},
   "outputs": [],
   "source": [
    "visapremw[\"AGEQ\"]=pd.qcut(visapremw.AGER,3,labels=[\"A0\",\"A1\",\"A2\"])\n",
    "visapremw[\"RELATQ\"]=pd.qcut(visapremw.RELAT,3,labels=[\"R0\",\"R1\",\"R2\"])\n",
    "visapremw[\"QSMOYQ\"]=pd.qcut(visapremw.QSMOY,3,labels=[\"Q0\",\"Q1\",\"Q2\"])\n",
    "visapremw[\"MOYRVQ\"]=pd.qcut(visapremw.MOYRV,3,labels=[\"M0\",\"M1\",\"M2\"])\n",
    "visapremw[\"TAVEPQ\"]=pd.qcut(visapremw.TAVEP,3,labels=[\"T0\",\"T1\",\"T2\"])\n",
    "visapremw[\"DMVTPQ\"]=pd.qcut(visapremw.DMVTP,3,labels=[\"D0\",\"D1\",\"D2\"])\n",
    "visapremw[\"BOPPNQ\"]=pd.qcut(visapremw.BOPPN,3,labels=[\"B0\",\"B1\",\"B2\"])\n",
    "visapremw[\"ITAVCQ\"]=pd.qcut(visapremw.ITAVC,3,labels=[\"I0\",\"I1\",\"I2\"])\n",
    "visapremw[\"OPGNBQ\"]=pd.qcut(visapremw.OPGNB,2,labels=[\"O0\",\"O1\"])\n",
    "\n",
    "# suppression des variables devenues inutiles\n",
    "listeVarSup=[\"AGER\",\"RELAT\",\"QSMOY\",\"MOYRV\",\"TAVEP\",\"DMVTP\",\"BOPPN\",\"ITAVC\",\"OPGNB\"]\n",
    "visapremw.drop(listeVarSup,inplace=True,axis=1)"
   ]
  },
  {
   "cell_type": "code",
   "execution_count": null,
   "metadata": {},
   "outputs": [],
   "source": [
    "fram=[visapremv,visapremw]\n",
    "visapremvw=pd.concat(fram,1)"
   ]
  },
  {
   "cell_type": "code",
   "execution_count": null,
   "metadata": {
    "scrolled": true
   },
   "outputs": [],
   "source": [
    "visapremvw.head()"
   ]
  },
  {
   "cell_type": "markdown",
   "metadata": {},
   "source": [
    "Il est classique de rechercher une première AFCM n'utilisant que les variables résumant les caractéristiques sociales (signalétique) des clients en variables principales. afin de détecter d'éventuelles incohérences. Les variables bancaires sont projetées en tant que variables supplémentaires. "
   ]
  },
  {
   "cell_type": "code",
   "execution_count": null,
   "metadata": {},
   "outputs": [],
   "source": [
    "import mca\n",
    "# variables qualitatives\n",
    "visapremQ=visapremvw.select_dtypes(include=[pd.Categorical,\"object\"])\n",
    "visapremQ.columns"
   ]
  },
  {
   "cell_type": "code",
   "execution_count": null,
   "metadata": {},
   "outputs": [],
   "source": [
    "visapremQ[\"RELATQ\"].value_counts()"
   ]
  },
  {
   "cell_type": "code",
   "execution_count": null,
   "metadata": {},
   "outputs": [],
   "source": [
    "visapremQ[[\"FAMIQ\",\"SEXEQ\",\"PCSPQ\",\"AGEQ\",\"RELATQ\"]].describe()"
   ]
  },
  {
   "cell_type": "code",
   "execution_count": null,
   "metadata": {},
   "outputs": [],
   "source": [
    "# La commande ci-dessous ne marche pas, il faut créer soi même le tableau disjonctif\n",
    "# mct=mca.MCA(visapremQ, cols=[\"FAMIQ\",\"SEXEQ\",\"PCSPQ\",\"AGEQ\",\"RELATQ\"],benzecri=False)"
   ]
  },
  {
   "cell_type": "code",
   "execution_count": null,
   "metadata": {},
   "outputs": [],
   "source": [
    "# Tableau disjonctif complet\n",
    "D=pd.DataFrame(pd.get_dummies(visapremQ[[\"FAMIQ\",\"SEXEQ\",\"PCSPQ\",\"AGEQ\",\"RELATQ\"]]))"
   ]
  },
  {
   "cell_type": "code",
   "execution_count": null,
   "metadata": {},
   "outputs": [],
   "source": [
    "# AFC\n",
    "mct=mca.MCA(D,benzecri=False)"
   ]
  },
  {
   "cell_type": "code",
   "execution_count": null,
   "metadata": {},
   "outputs": [],
   "source": [
    "# Graphique rudimenttaire\n",
    "col=[1,1,2,2,3,3,3,3,3,4,4,4,4,4,4]\n",
    "plt.scatter(mct.fs_c()[:, 0],mct.fs_c()[:, 1],c=col)\n",
    "for i, j, nom in zip(mct.fs_c()[:, 0],mct.fs_c()[:, 1], D.columns):\n",
    "       plt.text(i, j, nom)\n",
    "plt.show()"
   ]
  },
  {
   "cell_type": "markdown",
   "metadata": {},
   "source": [
    "**Q** Commenter le graphique ci-dessous. Présente-t-il des incohérences particulières ?"
   ]
  },
  {
   "cell_type": "markdown",
   "metadata": {},
   "source": [
    "L'objectif de cette exploration est de construire la représentation la plus explicite pour bien appréhender les structures des données. Les fonctions de python sont bien moins élaborées que celles des librairies de R. Il manque dans le graphe ci-dessous une utilisation habile des couleurs pour distinguer les modalités d'une même variable (même première lettre).\n",
    "\n",
    "**Q** Remarquant que la plupart des modalités \"0\" se trouvent à gauche du graphique suivant, quelle interprétation donner du premier axe? \n",
    "\n",
    "*Rappel*: le premier caractère de chaque libellé de modalité identifie la variable.\n",
    "\n",
    "**Exo ** améliorer la lisibilité du graphique ci-dessous\n",
    "\n",
    "**Q** Identifier quelques variables et modalités caractéristiques et donnez une interprétation du 2ème axe.\n",
    "\n",
    "**Exo:** Représenter les plans *(1,3)* et *(2,3)*. Une interprétation de l'axe 3 est-elle possible?\n",
    "\n",
    "**Q** Qu’est-ce qui caractérise principalement les porteurs de la carte visa premier (variable CARVP) ?"
   ]
  },
  {
   "cell_type": "code",
   "execution_count": null,
   "metadata": {},
   "outputs": [],
   "source": [
    "# Tableau disjonctif complet\n",
    "D=pd.DataFrame(pd.get_dummies(visapremQ))\n",
    "# AFCM de toutes les variables qualitatives\n",
    "mca_comp=mca.MCA(D,benzecri=False)"
   ]
  },
  {
   "cell_type": "code",
   "execution_count": null,
   "metadata": {},
   "outputs": [],
   "source": [
    "fig = plt.figure(1, figsize=(15, 13))\n",
    "plt.scatter(mca_comp.fs_c()[:, 0],mca_comp.fs_c()[:, 1])\n",
    "for i, j, nom in zip(mca_comp.fs_c()[:, 0],mca_comp.fs_c()[:, 1], D.columns):\n",
    "       plt.text(i, j, nom)\n",
    "plt.show()"
   ]
  },
  {
   "cell_type": "markdown",
   "metadata": {},
   "source": [
    "**Q** Le graphe ci-dessous représente également les clients dans le plan (1,2). L’AFC de quelle matrice a été calculée pour aboutir à ce résultat ? "
   ]
  },
  {
   "cell_type": "code",
   "execution_count": null,
   "metadata": {
    "scrolled": false
   },
   "outputs": [],
   "source": [
    "fig = plt.figure(1, figsize=(15, 13))\n",
    "# graphe des individus et des modalités\n",
    "for i, j, nom in zip(mca_comp.fs_c()[:, 0],-mca_comp.fs_c()[:, 1],D.columns):\n",
    "    #print(nom,i,j)\n",
    "    plt.text(i, j, nom,color='g')\n",
    "plt.scatter(mca_comp.fs_c()[:, 0],-mca_comp.fs_c()[:, 1],marker='1',c='g')\n",
    "plt.scatter(mca_comp.fs_r()[:, 0],-mca_comp.fs_r()[:, 1],marker='+',c='b')\n",
    "plt.show()"
   ]
  },
  {
   "cell_type": "markdown",
   "metadata": {},
   "source": [
    "# <FONT COLOR=\"Red\">Épisode 5 Classification non supervisée</font>\n",
    "## Segmentation ou *clustering* des clients\n",
    "L'objectif principal, lors de cette première étude des données, est de fournir une typologie ou segmentation des clients. C'est-à-dire de définir des classes les plus homogènes au regard des comportements bancaires. Les algorithmes de classification étudiés sont adaptés à des variables {\\em quantitatives} ou des matrices de distances. L'intégration d'informations qualitatives peut se faire par un recodage préalable (scoring) à l'aide d'une analyse des correspondances multiples. Ce scénatio se propose donc de comparer deux approches: classification à partir des seules variables quantitatives ou classification à partir des scores issues d'une afcm. D'autres approches sont envisageables sur des variables qualitatives qui nécessitent la définition d'une distance ou dissimilarité entre individus adaptée aux variables qualitatives. Mais, nécessitant la construction de la matrice *n x n* des distances des individus deux à deux, elles ne sont pas adaptées aux très grands tableaux.\n",
    "\n",
    "### Sur les seules variables quantitatives\n",
    "A titre d'exemple, voici comment obtenir une typologie à partir des seules variables quantitatives. La stratégie est adaptée à des gros fichiers. \n",
    "\n",
    "**Q** Quel problème peut poser la CAH (classification ascendante hiérérchique)) pour de très gros fichiers?\n",
    "\n",
    "**Q** Résumer la stratégie développée ci-dessous pour pouvoir appliquer la CAH à un gros fichier. Quel est l'avantage, que cette stratégie utilise, de la CAH sur les algortihmes par réallocation dynamique de type $k-means$?"
   ]
  },
  {
   "cell_type": "code",
   "execution_count": null,
   "metadata": {},
   "outputs": [],
   "source": [
    "# Sélection des variables quantitatives\n",
    "visaprems=visapremvw.select_dtypes(include=[\"int32\",\"float\",\"int64\"])\n",
    "# Centrage et réduction\n",
    "visaprems = scale(visaprems)"
   ]
  },
  {
   "cell_type": "code",
   "execution_count": null,
   "metadata": {},
   "outputs": [],
   "source": [
    "# Classification d'un grand tableau par k-means puis CAH\n",
    "## k-means avec 100 classes\n",
    "from sklearn.cluster import *\n",
    "T=k_means(visaprems,100)\n",
    "poids=np.zeros((100,))\n",
    "for i in T[1]:\n",
    "    poids[i]=1./np.size(T[1])\n",
    "np.sum(poids)"
   ]
  },
  {
   "cell_type": "code",
   "execution_count": null,
   "metadata": {},
   "outputs": [],
   "source": [
    "## CAH des barycentres des classes\n",
    "## Calcul de la matrices des distances pondérées\n",
    "def weightedL2(a,b,wa,wb):\n",
    "    q = wa*a-wb*b\n",
    "    return np.sqrt((q*q).sum())\n",
    "dist=np.zeros((100,100))\n",
    "for i in range(dist.shape[0]):\n",
    "    for j in range(dist.shape[1]):\n",
    "        dist[i,j]=weightedL2(T[0][i],T[0][j],poids[i],poids[j])\n",
    "from scipy.cluster.hierarchy import *\n",
    "Q= linkage(dist, 'ward')        \n",
    "        "
   ]
  },
  {
   "cell_type": "code",
   "execution_count": null,
   "metadata": {},
   "outputs": [],
   "source": [
    "## Dendrogramme des barycentres des classes\n",
    "plt.figure(figsize=(20, 10))\n",
    "plt.title('Hierarchical Clustering Dendrogram')\n",
    "plt.xlabel('sample index')\n",
    "plt.ylabel('distance')\n",
    "dendrogram(Q,leaf_font_size=8.)\n",
    "plt.show()"
   ]
  },
  {
   "cell_type": "markdown",
   "metadata": {},
   "source": [
    "**Q** Quel est le graphique ci-dessus? Quel est le graphique ci-dessous? Quelle conclusion en tirer?"
   ]
  },
  {
   "cell_type": "code",
   "execution_count": null,
   "metadata": {},
   "outputs": [],
   "source": [
    "plt.figure(figsize=(20, 10))\n",
    "plt.plot(maxdists(Q)[::-1][0:10])\n",
    "plt.show()"
   ]
  },
  {
   "cell_type": "code",
   "execution_count": null,
   "metadata": {},
   "outputs": [],
   "source": [
    "pd.DataFrame(Z[1],columns=[\"Classe\"])"
   ]
  },
  {
   "cell_type": "code",
   "execution_count": null,
   "metadata": {},
   "outputs": [],
   "source": [
    "## k-means avec le nombre choisi de classes \n",
    "Z=k_means(visaprems,5)\n",
    "pca=PCA()\n",
    "C = pca.fit(visaprems).transform(visaprems)"
   ]
  },
  {
   "cell_type": "code",
   "execution_count": null,
   "metadata": {},
   "outputs": [],
   "source": [
    "## représentation des classes dans l'ACP\n",
    "plt.figure(figsize=(20, 10))\n",
    "plt.scatter(C[:,0], C[:,1],marker='1',c=Z[1],cmap=plt.cm.Set1)\n",
    "plt.show()"
   ]
  },
  {
   "cell_type": "markdown",
   "metadata": {},
   "source": [
    "### *Clustering* sur composantes de l'AFCM\n",
    "\n",
    "**Q** Préciser la démarche permettant d'obtenir une typologie des clients décrits par des variables à la fois quantitatives et qualitatives."
   ]
  },
  {
   "cell_type": "code",
   "execution_count": null,
   "metadata": {},
   "outputs": [],
   "source": [
    "mca_comp=mca.MCA(D,benzecri=False)"
   ]
  },
  {
   "cell_type": "code",
   "execution_count": null,
   "metadata": {},
   "outputs": [],
   "source": [
    "mca_comp.fs_r().shape"
   ]
  },
  {
   "cell_type": "markdown",
   "metadata": {},
   "source": [
    "**Q** Quelles sont les options disponibles de la méthode mise en oeuvre ci-dessous?"
   ]
  },
  {
   "cell_type": "code",
   "execution_count": null,
   "metadata": {},
   "outputs": [],
   "source": [
    "# Avec n grand, il faudrait suivre la même stratégie que pour \n",
    "# l'acp: k-means puis CAH sur barycentres puis re-k-means. \n",
    "# On fait directement la CAH \n",
    "# data = (dat - dat.mean()) / dat.std()\n",
    "ZZ = linkage(mca_comp.fs_r(), 'ward')\n",
    "plt.figure(figsize=(15, 8))\n",
    "plt.title('Hierarchical Clustering Dendrogram')\n",
    "plt.xlabel('sample index')\n",
    "plt.ylabel('distance')\n",
    "dendrogram(ZZ,leaf_font_size=8.)\n",
    "plt.show()"
   ]
  },
  {
   "cell_type": "markdown",
   "metadata": {},
   "source": [
    "**Q** Justifier le choix du nombre de classes."
   ]
  },
  {
   "cell_type": "code",
   "execution_count": null,
   "metadata": {},
   "outputs": [],
   "source": [
    "plt.figure(figsize=(20, 10))\n",
    "plt.plot(maxdists(ZZ)[::-1][0:10])\n",
    "plt.show()"
   ]
  },
  {
   "cell_type": "code",
   "execution_count": null,
   "metadata": {},
   "outputs": [],
   "source": [
    "# k-means des composantes de l'AFCM avec 4 classes\n",
    "KL=k_means(mca_comp.fs_r(),4)\n",
    "fig = plt.figure(1, figsize=(15, 13))\n",
    "# Représentation des classes dans les composantes de l'AFCM\n",
    "for i, j, nom in zip(mca_comp.fs_c()[:, 0],-mca_comp.fs_c()[:, 1],D.columns):\n",
    "    plt.text(i, j, nom,color='g')\n",
    "plt.scatter(mca_comp.fs_c()[:, 0],-mca_comp.fs_c()[:, 1],marker='1',c='g')\n",
    "plt.scatter(mca_comp.fs_r()[:, 0],-mca_comp.fs_r()[:, 1],marker='+',c=KL[1])\n",
    "plt.show()"
   ]
  },
  {
   "cell_type": "code",
   "execution_count": null,
   "metadata": {},
   "outputs": [],
   "source": [
    "# Ajout de la variable Classe dans la table\n",
    "visapremvw[\"Klasse\"]=KL[1]\n",
    "visapremvw[\"Klasse\"]=pd.Categorical(visapremvw[\"Klasse\"],ordered=False)\n",
    "visapremvw[\"Klasse\"]=visapremvw[\"Klasse\"].cat.rename_categories(['KL2','KL1','KL0','KL3'])\n",
    "visapremvw[\"Klasse\"].value_counts()"
   ]
  },
  {
   "cell_type": "markdown",
   "metadata": {},
   "source": [
    "**Q** Les classes obtenues sont représentées dans une AFCM comme les modalités KL0, KL1, KL2, KL3 d’une variable qualitative. A partir du graphe ci-dessous, résumer quelques caractéristiques des classes de client kL1, KL2, KL3.\n",
    "\n",
    "**Exo** Représenter le plan (1,3). Interprétation de KL0."
   ]
  },
  {
   "cell_type": "code",
   "execution_count": null,
   "metadata": {},
   "outputs": [],
   "source": [
    "# AFCM avec la variable Classe\n",
    "D=pd.get_dummies(visapremvw.select_dtypes(include=[pd.Categorical,\"object\"]))\n",
    "mca_class=mca.MCA(D,benzecri=False)\n",
    "fig = plt.figure(1, figsize=(15, 13))\n",
    "# Graphe des modalités\n",
    "for i, j, nom in zip(mca_class.fs_c()[:, 0],-mca_class.fs_c()[:, 1],D.columns):\n",
    "    if nom=='Klasse_KL0' or nom=='Klasse_KL1' or nom=='Klasse_KL2' or nom=='Klasse_KL3':\n",
    "        plt.text(i, j, nom,color='r') \n",
    "    else:    \n",
    "        plt.text(i, j, nom,color='g')\n",
    "plt.scatter(mca_class.fs_c()[:, 0],-mca_class.fs_c()[:, 1],marker='1',c='g')\n",
    "plt.show()"
   ]
  },
  {
   "cell_type": "markdown",
   "metadata": {},
   "source": [
    "**Exo** Améliorer la lisibilité de ces graphiques!"
   ]
  }
 ],
 "metadata": {
  "kernelspec": {
   "display_name": "Python 3",
   "language": "python",
   "name": "python3"
  },
  "language_info": {
   "codemirror_mode": {
    "name": "ipython",
    "version": 3
   },
   "file_extension": ".py",
   "mimetype": "text/x-python",
   "name": "python",
   "nbconvert_exporter": "python",
   "pygments_lexer": "ipython3",
   "version": "3.7.1"
  }
 },
 "nbformat": 4,
 "nbformat_minor": 1
}
